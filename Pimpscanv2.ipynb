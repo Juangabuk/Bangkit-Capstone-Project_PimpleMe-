{
  "cells": [
    {
      "cell_type": "markdown",
      "metadata": {
        "id": "view-in-github",
        "colab_type": "text"
      },
      "source": [
        "<a href=\"https://colab.research.google.com/github/Juangabuk/Bangkit-Capstone-Project_PimpleMe-/blob/main/Pimpscanv2.ipynb\" target=\"_parent\"><img src=\"https://colab.research.google.com/assets/colab-badge.svg\" alt=\"Open In Colab\"/></a>"
      ]
    },
    {
      "cell_type": "code",
      "execution_count": 21,
      "metadata": {
        "id": "_rjSQHSHw4D8"
      },
      "outputs": [],
      "source": [
        "import matplotlib.pyplot as plt\n",
        "import numpy as np\n",
        "import os\n",
        "import PIL\n",
        "import tensorflow as tf\n",
        "from tensorflow import keras\n",
        "from tensorflow.keras import layers\n",
        "from tensorflow.keras.models import Sequential\n",
        "from tensorflow.keras.preprocessing.image import ImageDataGenerator\n",
        "from tensorflow.keras.layers import Dense, Dropout, Activation, Flatten, Conv2D, MaxPooling2D"
      ]
    },
    {
      "cell_type": "code",
      "execution_count": 22,
      "metadata": {
        "id": "P1ofH_XZtbuE",
        "colab": {
          "base_uri": "https://localhost:8080/"
        },
        "outputId": "f13502c2-8c47-4089-acf9-bcb4ea34b850"
      },
      "outputs": [
        {
          "output_type": "stream",
          "name": "stdout",
          "text": [
            "Drive already mounted at /content/gdrive; to attempt to forcibly remount, call drive.mount(\"/content/gdrive\", force_remount=True).\n"
          ]
        }
      ],
      "source": [
        "from google.colab import drive\n",
        "drive.mount('/content/gdrive')"
      ]
    },
    {
      "cell_type": "code",
      "execution_count": 23,
      "metadata": {
        "id": "lBtxJz_ZtcP7",
        "colab": {
          "base_uri": "https://localhost:8080/"
        },
        "outputId": "da76846c-24d8-48a1-bec9-a9d9b5591b7c"
      },
      "outputs": [
        {
          "output_type": "stream",
          "name": "stdout",
          "text": [
            "/content/gdrive/MyDrive/CAPSTONE/Datasets\n",
            " 109034482-young-man-with-acne-and-pimple-on-the-skin-with-brown-spots-acne-on-the-face-caused-by-hormone-or-gr.jpg\n",
            "'download (3).jfif'\n",
            " face_PNG5645.png\n",
            " levle0_22.jpg\n",
            " PimpleMe.h5\n",
            " PimpleMe.tflite\n",
            " test\n",
            " train\n"
          ]
        }
      ],
      "source": [
        "%cd /content/gdrive/MyDrive/CAPSTONE/Datasets\n",
        "!ls\n"
      ]
    },
    {
      "cell_type": "code",
      "execution_count": 24,
      "metadata": {
        "id": "1Wy16-oZte_M",
        "colab": {
          "base_uri": "https://localhost:8080/"
        },
        "outputId": "c396d823-fa12-476f-ec55-586a74755927"
      },
      "outputs": [
        {
          "output_type": "stream",
          "name": "stdout",
          "text": [
            "total training Level_0 images: 387\n",
            "total training Level_1 images: 473\n",
            "total training Level_2 images: 139\n"
          ]
        }
      ],
      "source": [
        "import os\n",
        "Level_0_dir = os.path.join('train/Level_0')\n",
        "Level_1_dir = os.path.join('train/Level_1')\n",
        "Level_2_dir = os.path.join('train/Level_2')\n",
        "\n",
        "\n",
        "print('total training Level_0 images:', len(os.listdir(Level_0_dir)))\n",
        "print('total training Level_1 images:', len(os.listdir(Level_1_dir)))\n",
        "print('total training Level_2 images:', len(os.listdir(Level_2_dir)))"
      ]
    },
    {
      "cell_type": "code",
      "execution_count": 25,
      "metadata": {
        "id": "iivCzFGptjF6"
      },
      "outputs": [],
      "source": [
        "batch_size = 32\n",
        "img_height = 180\n",
        "img_width = 180\n",
        "TRAINING_DIR = \"train/\"\n",
        "VALIDATION_DIR = \"test/\""
      ]
    },
    {
      "cell_type": "code",
      "execution_count": 26,
      "metadata": {
        "id": "PhGnxoxLtvSu",
        "colab": {
          "base_uri": "https://localhost:8080/"
        },
        "outputId": "da0ac46d-fa91-4704-d4c0-d64786c3f426"
      },
      "outputs": [
        {
          "output_type": "stream",
          "name": "stdout",
          "text": [
            "Found 999 files belonging to 3 classes.\n",
            "Found 257 files belonging to 3 classes.\n"
          ]
        }
      ],
      "source": [
        "train_ds = tf.keras.preprocessing.image_dataset_from_directory(\n",
        "  TRAINING_DIR,\n",
        "  seed=123,\n",
        "  image_size=(img_height, img_width),\n",
        "  batch_size=batch_size)\n",
        "val_ds = tf.keras.preprocessing.image_dataset_from_directory(\n",
        "  VALIDATION_DIR,\n",
        "  seed=123,\n",
        "  image_size=(img_height, img_width),\n",
        "  batch_size=batch_size)"
      ]
    },
    {
      "cell_type": "code",
      "execution_count": 27,
      "metadata": {
        "id": "Q1PXu8HHuU6F",
        "colab": {
          "base_uri": "https://localhost:8080/"
        },
        "outputId": "3f09b3bb-f9b1-4ad5-bdf3-218666c75682"
      },
      "outputs": [
        {
          "output_type": "stream",
          "name": "stdout",
          "text": [
            "['Level_0', 'Level_1', 'Level_2']\n"
          ]
        }
      ],
      "source": [
        "class_names = train_ds.class_names\n",
        "print(class_names)\n"
      ]
    },
    {
      "cell_type": "code",
      "execution_count": 28,
      "metadata": {
        "id": "yiQg6qgAzENH"
      },
      "outputs": [],
      "source": [
        "data_augmentation = keras.Sequential(\n",
        "  [\n",
        "    layers.experimental.preprocessing.RandomFlip(\"horizontal\", \n",
        "                                                 input_shape=(img_height, \n",
        "                                                              img_width,\n",
        "                                                              3)),\n",
        "    layers.experimental.preprocessing.RandomRotation(0.1),\n",
        "    layers.experimental.preprocessing.RandomZoom(0.1),\n",
        "  ]\n",
        ")"
      ]
    },
    {
      "cell_type": "code",
      "execution_count": 29,
      "metadata": {
        "id": "kjv4rf5KvnOh"
      },
      "outputs": [],
      "source": [
        "num_classes = 5\n",
        "\n",
        "model = Sequential([\n",
        "  data_augmentation,\n",
        "  layers.experimental.preprocessing.Rescaling(1./255),\n",
        "  layers.Conv2D(32, 3, activation='relu', padding='same'),\n",
        "  layers.MaxPooling2D(),\n",
        "  layers.Conv2D(64, 3, activation='relu', padding='same'),\n",
        "  layers.MaxPooling2D(),\n",
        "  layers.Conv2D(128, 3, activation='relu', padding='same'),\n",
        "  layers.MaxPooling2D(),\n",
        "  layers.Dropout(0.2),\n",
        "  layers.Flatten(),\n",
        "  layers.Dense(128, activation='relu'),\n",
        "  layers.Dense(num_classes)\n",
        "])"
      ]
    },
    {
      "cell_type": "code",
      "execution_count": 30,
      "metadata": {
        "id": "yqmU0Z53wbwr",
        "colab": {
          "base_uri": "https://localhost:8080/"
        },
        "outputId": "aec8cbba-401f-40eb-f4fd-445b77af2592"
      },
      "outputs": [
        {
          "output_type": "stream",
          "name": "stdout",
          "text": [
            "Epoch 1/100\n",
            "32/32 [==============================] - 76s 2s/step - loss: 1.0751 - accuracy: 0.4555 - val_loss: 1.1855 - val_accuracy: 0.4397\n",
            "Epoch 2/100\n",
            "32/32 [==============================] - 73s 2s/step - loss: 1.0035 - accuracy: 0.4635 - val_loss: 1.0945 - val_accuracy: 0.4047\n",
            "Epoch 3/100\n",
            "32/32 [==============================] - 73s 2s/step - loss: 0.9989 - accuracy: 0.4695 - val_loss: 1.0852 - val_accuracy: 0.4397\n",
            "Epoch 4/100\n",
            "32/32 [==============================] - 73s 2s/step - loss: 0.9965 - accuracy: 0.4354 - val_loss: 1.0930 - val_accuracy: 0.4514\n",
            "Epoch 5/100\n",
            "32/32 [==============================] - 73s 2s/step - loss: 0.9864 - accuracy: 0.4935 - val_loss: 1.0789 - val_accuracy: 0.4669\n",
            "Epoch 6/100\n",
            "32/32 [==============================] - 73s 2s/step - loss: 0.9935 - accuracy: 0.4665 - val_loss: 1.1012 - val_accuracy: 0.3191\n",
            "Epoch 7/100\n",
            "32/32 [==============================] - 73s 2s/step - loss: 1.0214 - accuracy: 0.4605 - val_loss: 1.1095 - val_accuracy: 0.4202\n",
            "Epoch 8/100\n",
            "32/32 [==============================] - 73s 2s/step - loss: 0.9777 - accuracy: 0.4805 - val_loss: 1.1139 - val_accuracy: 0.3969\n",
            "Epoch 9/100\n",
            "32/32 [==============================] - 73s 2s/step - loss: 0.9794 - accuracy: 0.4795 - val_loss: 1.2428 - val_accuracy: 0.4280\n",
            "Epoch 10/100\n",
            "32/32 [==============================] - 73s 2s/step - loss: 0.9749 - accuracy: 0.4815 - val_loss: 1.0297 - val_accuracy: 0.4553\n",
            "Epoch 11/100\n",
            "32/32 [==============================] - 73s 2s/step - loss: 0.9836 - accuracy: 0.4925 - val_loss: 1.1432 - val_accuracy: 0.2802\n",
            "Epoch 12/100\n",
            "32/32 [==============================] - 73s 2s/step - loss: 0.9821 - accuracy: 0.4705 - val_loss: 1.0973 - val_accuracy: 0.4591\n",
            "Epoch 13/100\n",
            "32/32 [==============================] - 73s 2s/step - loss: 0.9721 - accuracy: 0.4735 - val_loss: 1.1575 - val_accuracy: 0.4591\n",
            "Epoch 14/100\n",
            "32/32 [==============================] - 73s 2s/step - loss: 0.9566 - accuracy: 0.5095 - val_loss: 1.0663 - val_accuracy: 0.4786\n",
            "Epoch 15/100\n",
            "32/32 [==============================] - 73s 2s/step - loss: 0.9643 - accuracy: 0.5095 - val_loss: 1.1014 - val_accuracy: 0.4514\n",
            "Epoch 16/100\n",
            "32/32 [==============================] - 73s 2s/step - loss: 0.9726 - accuracy: 0.4765 - val_loss: 1.0822 - val_accuracy: 0.4630\n",
            "Epoch 17/100\n",
            "32/32 [==============================] - 73s 2s/step - loss: 0.9419 - accuracy: 0.5305 - val_loss: 1.0100 - val_accuracy: 0.4630\n",
            "Epoch 18/100\n",
            "32/32 [==============================] - 73s 2s/step - loss: 0.9776 - accuracy: 0.4885 - val_loss: 1.1821 - val_accuracy: 0.4047\n",
            "Epoch 19/100\n",
            "32/32 [==============================] - 73s 2s/step - loss: 0.9600 - accuracy: 0.5035 - val_loss: 1.0848 - val_accuracy: 0.4747\n",
            "Epoch 20/100\n",
            "32/32 [==============================] - 72s 2s/step - loss: 0.9556 - accuracy: 0.5075 - val_loss: 1.0694 - val_accuracy: 0.4241\n",
            "Epoch 21/100\n",
            "32/32 [==============================] - 72s 2s/step - loss: 0.9497 - accuracy: 0.5215 - val_loss: 1.0506 - val_accuracy: 0.4864\n",
            "Epoch 22/100\n",
            "32/32 [==============================] - 73s 2s/step - loss: 0.9460 - accuracy: 0.5115 - val_loss: 1.1020 - val_accuracy: 0.4747\n",
            "Epoch 23/100\n",
            "32/32 [==============================] - 72s 2s/step - loss: 0.9381 - accuracy: 0.5155 - val_loss: 1.0655 - val_accuracy: 0.4942\n",
            "Epoch 24/100\n",
            "32/32 [==============================] - 73s 2s/step - loss: 0.9314 - accuracy: 0.5305 - val_loss: 0.9898 - val_accuracy: 0.5097\n",
            "Epoch 25/100\n",
            "32/32 [==============================] - 73s 2s/step - loss: 0.9345 - accuracy: 0.5275 - val_loss: 1.0027 - val_accuracy: 0.5253\n",
            "Epoch 26/100\n",
            "32/32 [==============================] - 73s 2s/step - loss: 0.9270 - accuracy: 0.5045 - val_loss: 1.0483 - val_accuracy: 0.5097\n",
            "Epoch 27/100\n",
            "32/32 [==============================] - 73s 2s/step - loss: 0.9168 - accuracy: 0.5395 - val_loss: 0.9542 - val_accuracy: 0.5642\n",
            "Epoch 28/100\n",
            "32/32 [==============================] - 73s 2s/step - loss: 0.9240 - accuracy: 0.5305 - val_loss: 0.9821 - val_accuracy: 0.4397\n",
            "Epoch 29/100\n",
            "32/32 [==============================] - 73s 2s/step - loss: 0.9318 - accuracy: 0.5165 - val_loss: 0.9883 - val_accuracy: 0.5019\n",
            "Epoch 30/100\n",
            "32/32 [==============================] - 73s 2s/step - loss: 0.9234 - accuracy: 0.5435 - val_loss: 0.9631 - val_accuracy: 0.5409\n",
            "Epoch 31/100\n",
            "32/32 [==============================] - 72s 2s/step - loss: 0.8911 - accuracy: 0.5475 - val_loss: 0.9952 - val_accuracy: 0.5603\n",
            "Epoch 32/100\n",
            "32/32 [==============================] - 73s 2s/step - loss: 0.9027 - accuracy: 0.5435 - val_loss: 1.0025 - val_accuracy: 0.5759\n",
            "Epoch 33/100\n",
            "32/32 [==============================] - 73s 2s/step - loss: 0.8923 - accuracy: 0.5546 - val_loss: 1.0244 - val_accuracy: 0.5292\n",
            "Epoch 34/100\n",
            "32/32 [==============================] - 72s 2s/step - loss: 0.9114 - accuracy: 0.5636 - val_loss: 0.8721 - val_accuracy: 0.6342\n",
            "Epoch 35/100\n",
            "32/32 [==============================] - 72s 2s/step - loss: 0.8826 - accuracy: 0.5716 - val_loss: 1.1455 - val_accuracy: 0.5136\n",
            "Epoch 36/100\n",
            "32/32 [==============================] - 72s 2s/step - loss: 0.9072 - accuracy: 0.5475 - val_loss: 1.0069 - val_accuracy: 0.5603\n",
            "Epoch 37/100\n",
            "32/32 [==============================] - 72s 2s/step - loss: 0.8842 - accuracy: 0.5626 - val_loss: 0.9841 - val_accuracy: 0.5331\n",
            "Epoch 38/100\n",
            "32/32 [==============================] - 73s 2s/step - loss: 0.8852 - accuracy: 0.5656 - val_loss: 0.9834 - val_accuracy: 0.5720\n",
            "Epoch 39/100\n",
            "32/32 [==============================] - 73s 2s/step - loss: 0.8779 - accuracy: 0.5566 - val_loss: 1.0004 - val_accuracy: 0.5409\n",
            "Epoch 40/100\n",
            "32/32 [==============================] - 73s 2s/step - loss: 0.8688 - accuracy: 0.5706 - val_loss: 0.9661 - val_accuracy: 0.5720\n",
            "Epoch 41/100\n",
            "32/32 [==============================] - 74s 2s/step - loss: 0.8738 - accuracy: 0.5766 - val_loss: 0.9053 - val_accuracy: 0.6420\n",
            "Epoch 42/100\n",
            "32/32 [==============================] - 73s 2s/step - loss: 0.8791 - accuracy: 0.5646 - val_loss: 0.9523 - val_accuracy: 0.5875\n",
            "Epoch 43/100\n",
            "32/32 [==============================] - 73s 2s/step - loss: 0.8765 - accuracy: 0.5536 - val_loss: 0.9787 - val_accuracy: 0.5953\n",
            "Epoch 44/100\n",
            "32/32 [==============================] - 73s 2s/step - loss: 0.8630 - accuracy: 0.5816 - val_loss: 0.9116 - val_accuracy: 0.6226\n",
            "Epoch 45/100\n",
            "32/32 [==============================] - 73s 2s/step - loss: 0.8914 - accuracy: 0.5656 - val_loss: 0.8737 - val_accuracy: 0.6459\n",
            "Epoch 46/100\n",
            "32/32 [==============================] - 73s 2s/step - loss: 0.8726 - accuracy: 0.5566 - val_loss: 0.8693 - val_accuracy: 0.6031\n",
            "Epoch 47/100\n",
            "32/32 [==============================] - 72s 2s/step - loss: 0.8624 - accuracy: 0.5716 - val_loss: 0.9669 - val_accuracy: 0.5798\n",
            "Epoch 48/100\n",
            "32/32 [==============================] - 72s 2s/step - loss: 0.8371 - accuracy: 0.5906 - val_loss: 0.8335 - val_accuracy: 0.6459\n",
            "Epoch 49/100\n",
            "32/32 [==============================] - 73s 2s/step - loss: 0.8629 - accuracy: 0.5726 - val_loss: 0.9149 - val_accuracy: 0.5681\n",
            "Epoch 50/100\n",
            "32/32 [==============================] - 73s 2s/step - loss: 0.8527 - accuracy: 0.6026 - val_loss: 0.8759 - val_accuracy: 0.6498\n",
            "Epoch 51/100\n",
            "32/32 [==============================] - 73s 2s/step - loss: 0.8112 - accuracy: 0.6176 - val_loss: 0.8244 - val_accuracy: 0.6498\n",
            "Epoch 52/100\n",
            "32/32 [==============================] - 72s 2s/step - loss: 0.8269 - accuracy: 0.5966 - val_loss: 0.8284 - val_accuracy: 0.6070\n",
            "Epoch 53/100\n",
            "32/32 [==============================] - 73s 2s/step - loss: 0.8192 - accuracy: 0.6156 - val_loss: 0.8117 - val_accuracy: 0.6226\n",
            "Epoch 54/100\n",
            "32/32 [==============================] - 73s 2s/step - loss: 0.7947 - accuracy: 0.6176 - val_loss: 0.8556 - val_accuracy: 0.6381\n",
            "Epoch 55/100\n",
            "32/32 [==============================] - 73s 2s/step - loss: 0.8004 - accuracy: 0.6146 - val_loss: 0.7842 - val_accuracy: 0.6576\n",
            "Epoch 56/100\n",
            "32/32 [==============================] - 73s 2s/step - loss: 0.7952 - accuracy: 0.6066 - val_loss: 0.8154 - val_accuracy: 0.6420\n",
            "Epoch 57/100\n",
            "32/32 [==============================] - 73s 2s/step - loss: 0.7801 - accuracy: 0.6416 - val_loss: 0.7628 - val_accuracy: 0.6576\n",
            "Epoch 58/100\n",
            "32/32 [==============================] - 73s 2s/step - loss: 0.7848 - accuracy: 0.6276 - val_loss: 0.7906 - val_accuracy: 0.6265\n",
            "Epoch 59/100\n",
            "32/32 [==============================] - 73s 2s/step - loss: 0.7804 - accuracy: 0.6246 - val_loss: 0.7746 - val_accuracy: 0.6381\n",
            "Epoch 60/100\n",
            "32/32 [==============================] - 73s 2s/step - loss: 0.7755 - accuracy: 0.6446 - val_loss: 0.8084 - val_accuracy: 0.6070\n",
            "Epoch 61/100\n",
            "32/32 [==============================] - 73s 2s/step - loss: 0.7684 - accuracy: 0.6376 - val_loss: 0.7262 - val_accuracy: 0.6926\n",
            "Epoch 62/100\n",
            "32/32 [==============================] - 73s 2s/step - loss: 0.7598 - accuracy: 0.6466 - val_loss: 0.7261 - val_accuracy: 0.6965\n",
            "Epoch 63/100\n",
            "32/32 [==============================] - 73s 2s/step - loss: 0.7639 - accuracy: 0.6356 - val_loss: 0.7601 - val_accuracy: 0.6420\n",
            "Epoch 64/100\n",
            "32/32 [==============================] - 73s 2s/step - loss: 0.7513 - accuracy: 0.6567 - val_loss: 0.9015 - val_accuracy: 0.5642\n",
            "Epoch 65/100\n",
            "32/32 [==============================] - 73s 2s/step - loss: 0.7758 - accuracy: 0.6356 - val_loss: 0.7104 - val_accuracy: 0.6770\n",
            "Epoch 66/100\n",
            "32/32 [==============================] - 73s 2s/step - loss: 0.6968 - accuracy: 0.6827 - val_loss: 0.6371 - val_accuracy: 0.7198\n",
            "Epoch 67/100\n",
            "32/32 [==============================] - 73s 2s/step - loss: 0.7076 - accuracy: 0.6717 - val_loss: 0.7202 - val_accuracy: 0.6420\n",
            "Epoch 68/100\n",
            "32/32 [==============================] - 73s 2s/step - loss: 0.6936 - accuracy: 0.6867 - val_loss: 0.7124 - val_accuracy: 0.6615\n",
            "Epoch 69/100\n",
            "32/32 [==============================] - 73s 2s/step - loss: 0.7138 - accuracy: 0.6817 - val_loss: 0.6979 - val_accuracy: 0.6770\n",
            "Epoch 70/100\n",
            "32/32 [==============================] - 73s 2s/step - loss: 0.7422 - accuracy: 0.6557 - val_loss: 0.7107 - val_accuracy: 0.6420\n",
            "Epoch 71/100\n",
            "32/32 [==============================] - 73s 2s/step - loss: 0.7118 - accuracy: 0.6737 - val_loss: 0.7058 - val_accuracy: 0.6732\n",
            "Epoch 72/100\n",
            "32/32 [==============================] - 74s 2s/step - loss: 0.7174 - accuracy: 0.6657 - val_loss: 0.7083 - val_accuracy: 0.6615\n",
            "Epoch 73/100\n",
            "32/32 [==============================] - 73s 2s/step - loss: 0.6888 - accuracy: 0.6987 - val_loss: 0.6179 - val_accuracy: 0.7198\n",
            "Epoch 74/100\n",
            "32/32 [==============================] - 73s 2s/step - loss: 0.6820 - accuracy: 0.6717 - val_loss: 0.6298 - val_accuracy: 0.6848\n",
            "Epoch 75/100\n",
            "32/32 [==============================] - 73s 2s/step - loss: 0.6618 - accuracy: 0.6867 - val_loss: 0.5930 - val_accuracy: 0.7121\n",
            "Epoch 76/100\n",
            "32/32 [==============================] - 73s 2s/step - loss: 0.6979 - accuracy: 0.6837 - val_loss: 0.5690 - val_accuracy: 0.7393\n",
            "Epoch 77/100\n",
            "32/32 [==============================] - 73s 2s/step - loss: 0.6429 - accuracy: 0.7257 - val_loss: 0.5560 - val_accuracy: 0.7354\n",
            "Epoch 78/100\n",
            "32/32 [==============================] - 73s 2s/step - loss: 0.6459 - accuracy: 0.7087 - val_loss: 0.5347 - val_accuracy: 0.7665\n",
            "Epoch 79/100\n",
            "32/32 [==============================] - 73s 2s/step - loss: 0.6364 - accuracy: 0.7177 - val_loss: 0.5669 - val_accuracy: 0.7510\n",
            "Epoch 80/100\n",
            "32/32 [==============================] - 73s 2s/step - loss: 0.6507 - accuracy: 0.6907 - val_loss: 0.5293 - val_accuracy: 0.7471\n",
            "Epoch 81/100\n",
            "32/32 [==============================] - 73s 2s/step - loss: 0.6353 - accuracy: 0.7147 - val_loss: 0.5273 - val_accuracy: 0.7626\n",
            "Epoch 82/100\n",
            "32/32 [==============================] - 73s 2s/step - loss: 0.6167 - accuracy: 0.7217 - val_loss: 0.5467 - val_accuracy: 0.7743\n",
            "Epoch 83/100\n",
            "32/32 [==============================] - 73s 2s/step - loss: 0.5843 - accuracy: 0.7497 - val_loss: 0.5202 - val_accuracy: 0.7315\n",
            "Epoch 84/100\n",
            "32/32 [==============================] - 73s 2s/step - loss: 0.5879 - accuracy: 0.7377 - val_loss: 0.4319 - val_accuracy: 0.8249\n",
            "Epoch 85/100\n",
            "32/32 [==============================] - 73s 2s/step - loss: 0.6041 - accuracy: 0.7297 - val_loss: 0.4608 - val_accuracy: 0.8016\n",
            "Epoch 86/100\n",
            "32/32 [==============================] - 74s 2s/step - loss: 0.6059 - accuracy: 0.7297 - val_loss: 0.5931 - val_accuracy: 0.7393\n",
            "Epoch 87/100\n",
            "32/32 [==============================] - 75s 2s/step - loss: 0.6027 - accuracy: 0.7377 - val_loss: 0.5078 - val_accuracy: 0.7938\n",
            "Epoch 88/100\n",
            "32/32 [==============================] - 75s 2s/step - loss: 0.5687 - accuracy: 0.7578 - val_loss: 0.4306 - val_accuracy: 0.8210\n",
            "Epoch 89/100\n",
            "32/32 [==============================] - 75s 2s/step - loss: 0.5640 - accuracy: 0.7578 - val_loss: 0.4966 - val_accuracy: 0.7899\n",
            "Epoch 90/100\n",
            "32/32 [==============================] - 74s 2s/step - loss: 0.5427 - accuracy: 0.7618 - val_loss: 0.4807 - val_accuracy: 0.7821\n",
            "Epoch 91/100\n",
            "32/32 [==============================] - 74s 2s/step - loss: 0.5562 - accuracy: 0.7588 - val_loss: 0.5499 - val_accuracy: 0.7549\n",
            "Epoch 92/100\n",
            "32/32 [==============================] - 73s 2s/step - loss: 0.5732 - accuracy: 0.7437 - val_loss: 0.4468 - val_accuracy: 0.8366\n",
            "Epoch 93/100\n",
            "32/32 [==============================] - 73s 2s/step - loss: 0.5424 - accuracy: 0.7678 - val_loss: 0.5091 - val_accuracy: 0.7860\n",
            "Epoch 94/100\n",
            "32/32 [==============================] - 73s 2s/step - loss: 0.5843 - accuracy: 0.7467 - val_loss: 0.4020 - val_accuracy: 0.8405\n",
            "Epoch 95/100\n",
            "32/32 [==============================] - 73s 2s/step - loss: 0.5215 - accuracy: 0.7678 - val_loss: 0.4146 - val_accuracy: 0.8171\n",
            "Epoch 96/100\n",
            "32/32 [==============================] - 73s 2s/step - loss: 0.5046 - accuracy: 0.7838 - val_loss: 0.4014 - val_accuracy: 0.8249\n",
            "Epoch 97/100\n",
            "32/32 [==============================] - 73s 2s/step - loss: 0.5394 - accuracy: 0.7548 - val_loss: 0.4037 - val_accuracy: 0.8327\n",
            "Epoch 98/100\n",
            "32/32 [==============================] - 73s 2s/step - loss: 0.5207 - accuracy: 0.7598 - val_loss: 0.3595 - val_accuracy: 0.8638\n",
            "Epoch 99/100\n",
            "32/32 [==============================] - 73s 2s/step - loss: 0.5161 - accuracy: 0.7678 - val_loss: 0.4471 - val_accuracy: 0.8093\n",
            "Epoch 100/100\n",
            "32/32 [==============================] - 73s 2s/step - loss: 0.5313 - accuracy: 0.7658 - val_loss: 0.4877 - val_accuracy: 0.8171\n"
          ]
        }
      ],
      "source": [
        "model.compile(optimizer='adam',\n",
        "              loss=tf.keras.losses.SparseCategoricalCrossentropy(from_logits=True),\n",
        "              metrics=['accuracy'])\n",
        "epochs=100\n",
        "history = model.fit(\n",
        "  train_ds,\n",
        "  validation_data=val_ds,\n",
        "  epochs=epochs\n",
        ")"
      ]
    },
    {
      "cell_type": "code",
      "execution_count": 31,
      "metadata": {
        "id": "B18Qn1hKxGab",
        "colab": {
          "base_uri": "https://localhost:8080/",
          "height": 499
        },
        "outputId": "98629fed-de93-417b-9430-a2311114b53f"
      },
      "outputs": [
        {
          "output_type": "display_data",
          "data": {
            "text/plain": [
              "<Figure size 576x576 with 2 Axes>"
            ],
            "image/png": "[encoded data removed]"
          },
          "metadata": {
            "needs_background": "light"
          }
        }
      ],
      "source": [
        "acc = history.history['accuracy']\n",
        "val_acc = history.history['val_accuracy']\n",
        "\n",
        "loss = history.history['loss']\n",
        "val_loss = history.history['val_loss']\n",
        "\n",
        "epochs_range = range(epochs)\n",
        "\n",
        "plt.figure(figsize=(8, 8))\n",
        "plt.subplot(1, 2, 1)\n",
        "plt.plot(epochs_range, acc, label='Training Accuracy')\n",
        "plt.plot(epochs_range, val_acc, label='Validation Accuracy')\n",
        "plt.legend(loc='lower right')\n",
        "plt.title('Training and Validation Accuracy')\n",
        "\n",
        "plt.subplot(1, 2, 2)\n",
        "plt.plot(epochs_range, loss, label='Training Loss')\n",
        "plt.plot(epochs_range, val_loss, label='Validation Loss')\n",
        "plt.legend(loc='upper right')\n",
        "plt.title('Training and Validation Loss')\n",
        "plt.show()"
      ]
    },
    {
      "cell_type": "code",
      "execution_count": 32,
      "metadata": {
        "id": "7QTIKE387p1V"
      },
      "outputs": [],
      "source": [
        "# Save the entire model to a HDF5 file.\n",
        "# The '.h5' extension indicates that the model should be saved to HDF5.\n",
        "\n",
        "model.save('PimpleMe.h5')"
      ]
    },
    {
      "cell_type": "code",
      "execution_count": 33,
      "metadata": {
        "id": "nzRQIvVs7wrl"
      },
      "outputs": [],
      "source": [
        "from keras.models import load_model\n",
        "\n",
        "# returns a compiled model\n",
        "# identical to the previous one\n",
        "new_model= tf.keras.models.load_model(filepath=\"PimpleMe.h5\")\n"
      ]
    },
    {
      "cell_type": "code",
      "execution_count": 37,
      "metadata": {
        "id": "gQs8LdNriePj",
        "colab": {
          "resources": {
            "http://localhost:8080/nbextensions/google.colab/files.js": {
              "data": "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",
              "ok": true,
              "headers": [
                [
                  "content-type",
                  "application/javascript"
                ]
              ],
              "status": 200,
              "status_text": ""
            }
          },
          "base_uri": "https://localhost:8080/",
          "height": 111
        },
        "outputId": "c3f4370c-4e0f-4af6-c590-a7b0f8e05708"
      },
      "outputs": [
        {
          "output_type": "display_data",
          "data": {
            "text/plain": [
              "<IPython.core.display.HTML object>"
            ],
            "text/html": [
              "\n",
              "     <input type=\"file\" id=\"files-29557e20-3fab-4d60-801c-91074a2651a4\" name=\"files[]\" multiple disabled\n",
              "        style=\"border:none\" />\n",
              "     <output id=\"result-29557e20-3fab-4d60-801c-91074a2651a4\">\n",
              "      Upload widget is only available when the cell has been executed in the\n",
              "      current browser session. Please rerun this cell to enable.\n",
              "      </output>\n",
              "      <script src=\"/nbextensions/google.colab/files.js\"></script> "
            ]
          },
          "metadata": {}
        },
        {
          "output_type": "stream",
          "name": "stdout",
          "text": [
            "Saving 109034482-young-man-with-acne-and-pimple-on-the-skin-with-brown-spots-acne-on-the-face-caused-by-hormone-or-gr.jpg to 109034482-young-man-with-acne-and-pimple-on-the-skin-with-brown-spots-acne-on-the-face-caused-by-hormone-or-gr (1).jpg\n",
            "This image most likely belongs to Level_2 with a 71.65 percent confidence.\n"
          ]
        }
      ],
      "source": [
        "import numpy as np\n",
        "from google.colab import files\n",
        "from keras.preprocessing import image\n",
        "\n",
        "uploaded = files.upload()\n",
        "\n",
        "for fn in uploaded.keys():\n",
        " \n",
        "  # predicting images\n",
        "  path = fn\n",
        "  img = keras.preprocessing.image.load_img(\n",
        "      path, target_size=(img_height, img_width)\n",
        "  )\n",
        "  img_array = keras.preprocessing.image.img_to_array(img)\n",
        "  img_array = tf.expand_dims(img_array, 0) # Create a batch\n",
        "\n",
        "  predictions = model.predict(img_array)\n",
        "  score = tf.nn.softmax(predictions[0])\n",
        "\n",
        "  print(\n",
        "      \"This image most likely belongs to {} with a {:.2f} percent confidence.\"\n",
        "      .format(class_names[np.argmax(score)], 100 * np.max(score))\n",
        "  )\n",
        " "
      ]
    },
    {
      "cell_type": "code",
      "execution_count": 35,
      "metadata": {
        "id": "9xfkFIjOmCwA",
        "colab": {
          "base_uri": "https://localhost:8080/"
        },
        "outputId": "ef90f41a-9063-48c3-c030-8728cd8df756"
      },
      "outputs": [
        {
          "output_type": "stream",
          "name": "stderr",
          "text": [
            "WARNING:absl:Buffer deduplication procedure will be skipped when flatbuffer library is not properly loaded\n"
          ]
        }
      ],
      "source": [
        "# Convert the model.\n",
        "converter = tf.lite.TFLiteConverter.from_keras_model(new_model)\n",
        "tflite_model = converter.convert()\n",
        "\n",
        "# Save the TF Lite model.\n",
        "with tf.io.gfile.GFile('PimpleMe.tflite', 'wb') as f:\n",
        "  f.write(tflite_model)"
      ]
    },
    {
      "cell_type": "markdown",
      "metadata": {
        "id": "2AUVmf5jwbpZ"
      },
      "source": [
        ""
      ]
    },
    {
      "cell_type": "markdown",
      "metadata": {
        "id": "5ilQEdkstYx1"
      },
      "source": [
        ""
      ]
    }
  ],
  "metadata": {
    "colab": {
      "collapsed_sections": [],
      "name": "Pimpscan.ipynb",
      "provenance": [],
      "include_colab_link": true
    },
    "kernelspec": {
      "display_name": "Python 3",
      "name": "python3"
    },
    "language_info": {
      "name": "python"
    }
  },
  "nbformat": 4,
  "nbformat_minor": 0
}