{
  "cells": [
    {
      "cell_type": "markdown",
      "metadata": {
        "id": "view-in-github",
        "colab_type": "text"
      },
      "source": [
        "<a href=\"https://colab.research.google.com/github/Juangabuk/Bangkit-Capstone-Project_PimpleMe-/blob/main/PimpscanFinale.ipynb\" target=\"_parent\"><img src=\"https://colab.research.google.com/assets/colab-badge.svg\" alt=\"Open In Colab\"/></a>"
      ]
    },
    {
      "cell_type": "code",
      "execution_count": 2,
      "metadata": {
        "id": "_rjSQHSHw4D8"
      },
      "outputs": [],
      "source": [
        "import matplotlib.pyplot as plt\n",
        "import numpy as np\n",
        "import os\n",
        "import PIL\n",
        "import tensorflow as tf\n",
        "from tensorflow import keras\n",
        "from tensorflow.keras import layers\n",
        "from tensorflow.keras.models import Sequential\n",
        "from tensorflow.keras.preprocessing.image import ImageDataGenerator\n",
        "from tensorflow.keras.layers import Dense, Dropout, Activation, Flatten, Conv2D, MaxPooling2D"
      ]
    },
    {
      "cell_type": "code",
      "execution_count": 3,
      "metadata": {
        "id": "P1ofH_XZtbuE",
        "colab": {
          "base_uri": "https://localhost:8080/"
        },
        "outputId": "8ea6be56-0a96-4119-f1f2-192762bb47e3"
      },
      "outputs": [
        {
          "output_type": "stream",
          "name": "stdout",
          "text": [
            "Mounted at /content/gdrive\n"
          ]
        }
      ],
      "source": [
        "from google.colab import drive\n",
        "drive.mount('/content/gdrive')"
      ]
    },
    {
      "cell_type": "code",
      "execution_count": 4,
      "metadata": {
        "id": "lBtxJz_ZtcP7",
        "colab": {
          "base_uri": "https://localhost:8080/"
        },
        "outputId": "808771c9-0943-43a8-effe-a4a2e2c1bcb2"
      },
      "outputs": [
        {
          "output_type": "stream",
          "name": "stdout",
          "text": [
            "/content/gdrive/MyDrive/CAPSTONE/Datasets\n",
            "'109034482-young-man-with-acne-and-pimple-on-the-skin-with-brown-spots-acne-on-the-face-caused-by-hormone-or-gr (1).jpg'\n",
            " 109034482-young-man-with-acne-and-pimple-on-the-skin-with-brown-spots-acne-on-the-face-caused-by-hormone-or-gr.jpg\n",
            "'download (3) (1).jfif'\n",
            "'download (3) (2).jfif'\n",
            "'download (3).jfif'\n",
            "'face_PNG5645 (1).png'\n",
            " face_PNG5645.png\n",
            " levle0_22.jpg\n",
            " PimpleMe.h5\n",
            " PimpleMe.tflite\n",
            " test\n",
            " train\n"
          ]
        }
      ],
      "source": [
        "%cd /content/gdrive/MyDrive/CAPSTONE/Datasets\n",
        "!ls\n"
      ]
    },
    {
      "cell_type": "code",
      "execution_count": 5,
      "metadata": {
        "id": "1Wy16-oZte_M",
        "colab": {
          "base_uri": "https://localhost:8080/"
        },
        "outputId": "b66aeb64-932d-4b76-da44-3a79c241b9f7"
      },
      "outputs": [
        {
          "output_type": "stream",
          "name": "stdout",
          "text": [
            "total training Mild images: 387\n",
            "total training Moderate images: 473\n",
            "total training Severe Moderate images: 139\n"
          ]
        }
      ],
      "source": [
        "import os\n",
        "Mild_dir = os.path.join('train/Mild')\n",
        "Moderate_dir = os.path.join('train/Moderate')\n",
        "Severe_Moderate_dir = os.path.join('train/Severe Moderate')\n",
        "\n",
        "\n",
        "print('total training Mild images:', len(os.listdir(Mild_dir)))\n",
        "print('total training Moderate images:', len(os.listdir(Moderate_dir)))\n",
        "print('total training Severe Moderate images:', len(os.listdir(Severe_Moderate_dir)))"
      ]
    },
    {
      "cell_type": "code",
      "execution_count": 6,
      "metadata": {
        "id": "iivCzFGptjF6"
      },
      "outputs": [],
      "source": [
        "batch_size = 32\n",
        "img_height = 180\n",
        "img_width = 180\n",
        "TRAINING_DIR = \"train/\"\n",
        "VALIDATION_DIR = \"test/\""
      ]
    },
    {
      "cell_type": "code",
      "execution_count": 7,
      "metadata": {
        "id": "PhGnxoxLtvSu",
        "colab": {
          "base_uri": "https://localhost:8080/"
        },
        "outputId": "d9badf89-e9d9-4226-d326-92b0f7882b65"
      },
      "outputs": [
        {
          "output_type": "stream",
          "name": "stdout",
          "text": [
            "Found 999 files belonging to 3 classes.\n",
            "Found 257 files belonging to 3 classes.\n"
          ]
        }
      ],
      "source": [
        "train_ds = tf.keras.preprocessing.image_dataset_from_directory(\n",
        "  TRAINING_DIR,\n",
        "  seed=123,\n",
        "  image_size=(img_height, img_width),\n",
        "  batch_size=batch_size)\n",
        "val_ds = tf.keras.preprocessing.image_dataset_from_directory(\n",
        "  VALIDATION_DIR,\n",
        "  seed=123,\n",
        "  image_size=(img_height, img_width),\n",
        "  batch_size=batch_size)"
      ]
    },
    {
      "cell_type": "code",
      "execution_count": 8,
      "metadata": {
        "id": "Q1PXu8HHuU6F",
        "colab": {
          "base_uri": "https://localhost:8080/"
        },
        "outputId": "6c58b3d6-0426-4a12-b68b-d556dd978ded"
      },
      "outputs": [
        {
          "output_type": "stream",
          "name": "stdout",
          "text": [
            "['Mild', 'Moderate', 'Severe Moderate']\n"
          ]
        }
      ],
      "source": [
        "class_names = train_ds.class_names\n",
        "print(class_names)\n"
      ]
    },
    {
      "cell_type": "markdown",
      "source": [
        "# Image Augmentation\n",
        "Do some random rotation and zoom as well."
      ],
      "metadata": {
        "id": "57GLSLQ30yzx"
      }
    },
    {
      "cell_type": "code",
      "execution_count": 9,
      "metadata": {
        "id": "yiQg6qgAzENH"
      },
      "outputs": [],
      "source": [
        "data_augmentation = keras.Sequential(\n",
        "  [\n",
        "    layers.experimental.preprocessing.RandomFlip(\"horizontal\", \n",
        "                                                 input_shape=(img_height, \n",
        "                                                              img_width,\n",
        "                                                              3)),\n",
        "    layers.experimental.preprocessing.RandomRotation(0.1),\n",
        "    layers.experimental.preprocessing.RandomZoom(0.1),\n",
        "  ]\n",
        ")"
      ]
    },
    {
      "cell_type": "markdown",
      "source": [
        " # Create CNN Architecture\n",
        " 3 main Layer with 1 additional hidden layer\n",
        " \n",
        " Using \"same\" padding.\n"
      ],
      "metadata": {
        "id": "ZdUMbNRZ0N9B"
      }
    },
    {
      "cell_type": "code",
      "execution_count": 10,
      "metadata": {
        "id": "kjv4rf5KvnOh"
      },
      "outputs": [],
      "source": [
        "num_classes = 5\n",
        "\n",
        "model = Sequential([\n",
        "  data_augmentation,\n",
        "  layers.experimental.preprocessing.Rescaling(1./255),\n",
        "  layers.Conv2D(32, 3, activation='relu', padding='same'),\n",
        "  layers.MaxPooling2D(),\n",
        "  layers.Conv2D(64, 3, activation='relu', padding='same'),\n",
        "  layers.MaxPooling2D(),\n",
        "  layers.Conv2D(128, 3, activation='relu', padding='same'),\n",
        "  layers.MaxPooling2D(),\n",
        "  layers.Dropout(0.2),\n",
        "  layers.Flatten(),\n",
        "  layers.Dense(128, activation='relu'),\n",
        "  layers.Dense(num_classes)\n",
        "])"
      ]
    },
    {
      "cell_type": "code",
      "execution_count": 11,
      "metadata": {
        "id": "yqmU0Z53wbwr",
        "colab": {
          "base_uri": "https://localhost:8080/"
        },
        "outputId": "41b93ac4-0986-44a1-aa94-286851d461cb"
      },
      "outputs": [
        {
          "output_type": "stream",
          "name": "stdout",
          "text": [
            "Epoch 1/200\n",
            "32/32 [==============================] - 132s 3s/step - loss: 1.1083 - accuracy: 0.4084 - val_loss: 1.1811 - val_accuracy: 0.4591\n",
            "Epoch 2/200\n",
            "32/32 [==============================] - 73s 2s/step - loss: 1.0082 - accuracy: 0.4605 - val_loss: 1.1009 - val_accuracy: 0.4241\n",
            "Epoch 3/200\n",
            "32/32 [==============================] - 73s 2s/step - loss: 1.0023 - accuracy: 0.4675 - val_loss: 1.0825 - val_accuracy: 0.4358\n",
            "Epoch 4/200\n",
            "32/32 [==============================] - 73s 2s/step - loss: 0.9957 - accuracy: 0.4595 - val_loss: 1.1056 - val_accuracy: 0.4163\n",
            "Epoch 5/200\n",
            "32/32 [==============================] - 73s 2s/step - loss: 0.9889 - accuracy: 0.4825 - val_loss: 1.0661 - val_accuracy: 0.4553\n",
            "Epoch 6/200\n",
            "32/32 [==============================] - 73s 2s/step - loss: 1.0008 - accuracy: 0.4695 - val_loss: 1.0860 - val_accuracy: 0.3774\n",
            "Epoch 7/200\n",
            "32/32 [==============================] - 73s 2s/step - loss: 1.0086 - accuracy: 0.4735 - val_loss: 1.1061 - val_accuracy: 0.4202\n",
            "Epoch 8/200\n",
            "32/32 [==============================] - 73s 2s/step - loss: 0.9856 - accuracy: 0.4745 - val_loss: 1.0860 - val_accuracy: 0.4514\n",
            "Epoch 9/200\n",
            "32/32 [==============================] - 73s 2s/step - loss: 0.9904 - accuracy: 0.4615 - val_loss: 1.2201 - val_accuracy: 0.4241\n",
            "Epoch 10/200\n",
            "32/32 [==============================] - 73s 2s/step - loss: 0.9848 - accuracy: 0.4835 - val_loss: 1.0715 - val_accuracy: 0.4630\n",
            "Epoch 11/200\n",
            "32/32 [==============================] - 73s 2s/step - loss: 0.9798 - accuracy: 0.4805 - val_loss: 1.1420 - val_accuracy: 0.3152\n",
            "Epoch 12/200\n",
            "32/32 [==============================] - 72s 2s/step - loss: 0.9801 - accuracy: 0.4995 - val_loss: 1.0972 - val_accuracy: 0.4475\n",
            "Epoch 13/200\n",
            "32/32 [==============================] - 72s 2s/step - loss: 0.9627 - accuracy: 0.4985 - val_loss: 1.1082 - val_accuracy: 0.4358\n",
            "Epoch 14/200\n",
            "32/32 [==============================] - 72s 2s/step - loss: 0.9755 - accuracy: 0.4865 - val_loss: 1.0635 - val_accuracy: 0.4708\n",
            "Epoch 15/200\n",
            "32/32 [==============================] - 72s 2s/step - loss: 0.9775 - accuracy: 0.4965 - val_loss: 1.0905 - val_accuracy: 0.4591\n",
            "Epoch 16/200\n",
            "32/32 [==============================] - 72s 2s/step - loss: 0.9584 - accuracy: 0.5055 - val_loss: 1.0609 - val_accuracy: 0.4514\n",
            "Epoch 17/200\n",
            "32/32 [==============================] - 72s 2s/step - loss: 0.9696 - accuracy: 0.4905 - val_loss: 1.0140 - val_accuracy: 0.4708\n",
            "Epoch 18/200\n",
            "32/32 [==============================] - 72s 2s/step - loss: 0.9673 - accuracy: 0.4775 - val_loss: 1.1755 - val_accuracy: 0.4008\n",
            "Epoch 19/200\n",
            "32/32 [==============================] - 72s 2s/step - loss: 0.9782 - accuracy: 0.4925 - val_loss: 1.1059 - val_accuracy: 0.4397\n",
            "Epoch 20/200\n",
            "32/32 [==============================] - 72s 2s/step - loss: 0.9558 - accuracy: 0.5045 - val_loss: 1.0039 - val_accuracy: 0.5214\n",
            "Epoch 21/200\n",
            "32/32 [==============================] - 72s 2s/step - loss: 0.9483 - accuracy: 0.5235 - val_loss: 1.0456 - val_accuracy: 0.4903\n",
            "Epoch 22/200\n",
            "32/32 [==============================] - 72s 2s/step - loss: 0.9431 - accuracy: 0.5255 - val_loss: 1.0469 - val_accuracy: 0.5214\n",
            "Epoch 23/200\n",
            "32/32 [==============================] - 72s 2s/step - loss: 0.9333 - accuracy: 0.5135 - val_loss: 0.9681 - val_accuracy: 0.5097\n",
            "Epoch 24/200\n",
            "32/32 [==============================] - 72s 2s/step - loss: 0.9437 - accuracy: 0.4985 - val_loss: 0.9926 - val_accuracy: 0.4942\n",
            "Epoch 25/200\n",
            "32/32 [==============================] - 72s 2s/step - loss: 0.9671 - accuracy: 0.5055 - val_loss: 1.0108 - val_accuracy: 0.5019\n",
            "Epoch 26/200\n",
            "32/32 [==============================] - 72s 2s/step - loss: 0.9448 - accuracy: 0.5055 - val_loss: 1.0400 - val_accuracy: 0.5058\n",
            "Epoch 27/200\n",
            "32/32 [==============================] - 72s 2s/step - loss: 0.9480 - accuracy: 0.5095 - val_loss: 0.9777 - val_accuracy: 0.5564\n",
            "Epoch 28/200\n",
            "32/32 [==============================] - 72s 2s/step - loss: 0.9251 - accuracy: 0.5145 - val_loss: 0.9918 - val_accuracy: 0.5603\n",
            "Epoch 29/200\n",
            "32/32 [==============================] - 72s 2s/step - loss: 0.9341 - accuracy: 0.5225 - val_loss: 0.9641 - val_accuracy: 0.5681\n",
            "Epoch 30/200\n",
            "32/32 [==============================] - 72s 2s/step - loss: 0.9205 - accuracy: 0.5415 - val_loss: 1.0594 - val_accuracy: 0.4981\n",
            "Epoch 31/200\n",
            "32/32 [==============================] - 72s 2s/step - loss: 0.9283 - accuracy: 0.5295 - val_loss: 1.0019 - val_accuracy: 0.5642\n",
            "Epoch 32/200\n",
            "32/32 [==============================] - 72s 2s/step - loss: 0.8989 - accuracy: 0.5516 - val_loss: 0.9402 - val_accuracy: 0.5798\n",
            "Epoch 33/200\n",
            "32/32 [==============================] - 73s 2s/step - loss: 0.9084 - accuracy: 0.5395 - val_loss: 0.9899 - val_accuracy: 0.6070\n",
            "Epoch 34/200\n",
            "32/32 [==============================] - 72s 2s/step - loss: 0.9163 - accuracy: 0.5365 - val_loss: 0.8889 - val_accuracy: 0.6148\n",
            "Epoch 35/200\n",
            "32/32 [==============================] - 72s 2s/step - loss: 0.9257 - accuracy: 0.5345 - val_loss: 0.9331 - val_accuracy: 0.5875\n",
            "Epoch 36/200\n",
            "32/32 [==============================] - 72s 2s/step - loss: 0.9089 - accuracy: 0.5385 - val_loss: 0.9510 - val_accuracy: 0.5914\n",
            "Epoch 37/200\n",
            "32/32 [==============================] - 72s 2s/step - loss: 0.8959 - accuracy: 0.5475 - val_loss: 0.9478 - val_accuracy: 0.5642\n",
            "Epoch 38/200\n",
            "32/32 [==============================] - 72s 2s/step - loss: 0.8924 - accuracy: 0.5556 - val_loss: 0.9251 - val_accuracy: 0.6109\n",
            "Epoch 39/200\n",
            "32/32 [==============================] - 72s 2s/step - loss: 0.8862 - accuracy: 0.5485 - val_loss: 0.9896 - val_accuracy: 0.5564\n",
            "Epoch 40/200\n",
            "32/32 [==============================] - 72s 2s/step - loss: 0.8842 - accuracy: 0.5746 - val_loss: 0.9450 - val_accuracy: 0.5798\n",
            "Epoch 41/200\n",
            "32/32 [==============================] - 72s 2s/step - loss: 0.8818 - accuracy: 0.5616 - val_loss: 0.9019 - val_accuracy: 0.5759\n",
            "Epoch 42/200\n",
            "32/32 [==============================] - 72s 2s/step - loss: 0.8904 - accuracy: 0.5546 - val_loss: 0.9302 - val_accuracy: 0.6187\n",
            "Epoch 43/200\n",
            "32/32 [==============================] - 72s 2s/step - loss: 0.8812 - accuracy: 0.5425 - val_loss: 0.9364 - val_accuracy: 0.6342\n",
            "Epoch 44/200\n",
            "32/32 [==============================] - 72s 2s/step - loss: 0.8866 - accuracy: 0.5776 - val_loss: 0.9010 - val_accuracy: 0.5837\n",
            "Epoch 45/200\n",
            "32/32 [==============================] - 72s 2s/step - loss: 0.8852 - accuracy: 0.5686 - val_loss: 0.9128 - val_accuracy: 0.6148\n",
            "Epoch 46/200\n",
            "32/32 [==============================] - 72s 2s/step - loss: 0.8868 - accuracy: 0.5686 - val_loss: 0.9171 - val_accuracy: 0.5914\n",
            "Epoch 47/200\n",
            "32/32 [==============================] - 72s 2s/step - loss: 0.8723 - accuracy: 0.5886 - val_loss: 1.0007 - val_accuracy: 0.5564\n",
            "Epoch 48/200\n",
            "32/32 [==============================] - 72s 2s/step - loss: 0.8691 - accuracy: 0.5866 - val_loss: 0.8996 - val_accuracy: 0.5720\n",
            "Epoch 49/200\n",
            "32/32 [==============================] - 72s 2s/step - loss: 0.8628 - accuracy: 0.5556 - val_loss: 0.8905 - val_accuracy: 0.5914\n",
            "Epoch 50/200\n",
            "32/32 [==============================] - 72s 2s/step - loss: 0.8522 - accuracy: 0.5926 - val_loss: 0.9680 - val_accuracy: 0.5914\n",
            "Epoch 51/200\n",
            "32/32 [==============================] - 72s 2s/step - loss: 0.8500 - accuracy: 0.5846 - val_loss: 0.8622 - val_accuracy: 0.6187\n",
            "Epoch 52/200\n",
            "32/32 [==============================] - 72s 2s/step - loss: 0.8506 - accuracy: 0.5766 - val_loss: 0.8637 - val_accuracy: 0.6226\n",
            "Epoch 53/200\n",
            "32/32 [==============================] - 72s 2s/step - loss: 0.8689 - accuracy: 0.5806 - val_loss: 0.8394 - val_accuracy: 0.6576\n",
            "Epoch 54/200\n",
            "32/32 [==============================] - 72s 2s/step - loss: 0.8227 - accuracy: 0.6076 - val_loss: 0.8484 - val_accuracy: 0.6498\n",
            "Epoch 55/200\n",
            "32/32 [==============================] - 72s 2s/step - loss: 0.8208 - accuracy: 0.6036 - val_loss: 0.8035 - val_accuracy: 0.6576\n",
            "Epoch 56/200\n",
            "32/32 [==============================] - 72s 2s/step - loss: 0.8236 - accuracy: 0.6066 - val_loss: 0.8479 - val_accuracy: 0.6265\n",
            "Epoch 57/200\n",
            "32/32 [==============================] - 72s 2s/step - loss: 0.8316 - accuracy: 0.6316 - val_loss: 0.7674 - val_accuracy: 0.6848\n",
            "Epoch 58/200\n",
            "32/32 [==============================] - 73s 2s/step - loss: 0.8212 - accuracy: 0.6066 - val_loss: 0.8292 - val_accuracy: 0.6732\n",
            "Epoch 59/200\n",
            "32/32 [==============================] - 72s 2s/step - loss: 0.8062 - accuracy: 0.6226 - val_loss: 0.7614 - val_accuracy: 0.6926\n",
            "Epoch 60/200\n",
            "32/32 [==============================] - 78s 2s/step - loss: 0.8115 - accuracy: 0.6196 - val_loss: 0.8635 - val_accuracy: 0.5875\n",
            "Epoch 61/200\n",
            "32/32 [==============================] - 78s 2s/step - loss: 0.7895 - accuracy: 0.6206 - val_loss: 0.7237 - val_accuracy: 0.6848\n",
            "Epoch 62/200\n",
            "32/32 [==============================] - 77s 2s/step - loss: 0.7909 - accuracy: 0.6396 - val_loss: 0.8152 - val_accuracy: 0.6459\n",
            "Epoch 63/200\n",
            "32/32 [==============================] - 78s 2s/step - loss: 0.7730 - accuracy: 0.6256 - val_loss: 0.7545 - val_accuracy: 0.6693\n",
            "Epoch 64/200\n",
            "32/32 [==============================] - 75s 2s/step - loss: 0.7736 - accuracy: 0.6486 - val_loss: 0.8426 - val_accuracy: 0.6070\n",
            "Epoch 65/200\n",
            "32/32 [==============================] - 78s 2s/step - loss: 0.7937 - accuracy: 0.6376 - val_loss: 0.7410 - val_accuracy: 0.6732\n",
            "Epoch 66/200\n",
            "32/32 [==============================] - 78s 2s/step - loss: 0.7453 - accuracy: 0.6557 - val_loss: 0.6752 - val_accuracy: 0.7043\n",
            "Epoch 67/200\n",
            "32/32 [==============================] - 76s 2s/step - loss: 0.7661 - accuracy: 0.6436 - val_loss: 0.7286 - val_accuracy: 0.6848\n",
            "Epoch 68/200\n",
            "32/32 [==============================] - 76s 2s/step - loss: 0.7387 - accuracy: 0.6667 - val_loss: 0.6943 - val_accuracy: 0.7082\n",
            "Epoch 69/200\n",
            "32/32 [==============================] - 76s 2s/step - loss: 0.7414 - accuracy: 0.6557 - val_loss: 0.6991 - val_accuracy: 0.6887\n",
            "Epoch 70/200\n",
            "32/32 [==============================] - 75s 2s/step - loss: 0.7673 - accuracy: 0.6316 - val_loss: 0.8023 - val_accuracy: 0.6226\n",
            "Epoch 71/200\n",
            "32/32 [==============================] - 73s 2s/step - loss: 0.7588 - accuracy: 0.6396 - val_loss: 0.7401 - val_accuracy: 0.6887\n",
            "Epoch 72/200\n",
            "32/32 [==============================] - 72s 2s/step - loss: 0.7305 - accuracy: 0.6707 - val_loss: 0.7158 - val_accuracy: 0.6887\n",
            "Epoch 73/200\n",
            "32/32 [==============================] - 73s 2s/step - loss: 0.7438 - accuracy: 0.6486 - val_loss: 0.6533 - val_accuracy: 0.7510\n",
            "Epoch 74/200\n",
            "32/32 [==============================] - 73s 2s/step - loss: 0.7089 - accuracy: 0.6797 - val_loss: 0.6524 - val_accuracy: 0.7432\n",
            "Epoch 75/200\n",
            "32/32 [==============================] - 73s 2s/step - loss: 0.7130 - accuracy: 0.6877 - val_loss: 0.7171 - val_accuracy: 0.7121\n",
            "Epoch 76/200\n",
            "32/32 [==============================] - 73s 2s/step - loss: 0.7031 - accuracy: 0.6827 - val_loss: 0.6713 - val_accuracy: 0.7198\n",
            "Epoch 77/200\n",
            "32/32 [==============================] - 72s 2s/step - loss: 0.6787 - accuracy: 0.6897 - val_loss: 0.6232 - val_accuracy: 0.7588\n",
            "Epoch 78/200\n",
            "32/32 [==============================] - 73s 2s/step - loss: 0.6825 - accuracy: 0.7097 - val_loss: 0.6410 - val_accuracy: 0.7354\n",
            "Epoch 79/200\n",
            "32/32 [==============================] - 73s 2s/step - loss: 0.6760 - accuracy: 0.6847 - val_loss: 0.6113 - val_accuracy: 0.7237\n",
            "Epoch 80/200\n",
            "32/32 [==============================] - 72s 2s/step - loss: 0.7119 - accuracy: 0.6657 - val_loss: 0.7672 - val_accuracy: 0.6381\n",
            "Epoch 81/200\n",
            "32/32 [==============================] - 73s 2s/step - loss: 0.7163 - accuracy: 0.6747 - val_loss: 0.7799 - val_accuracy: 0.6770\n",
            "Epoch 82/200\n",
            "32/32 [==============================] - 73s 2s/step - loss: 0.6528 - accuracy: 0.7137 - val_loss: 0.5959 - val_accuracy: 0.7665\n",
            "Epoch 83/200\n",
            "32/32 [==============================] - 73s 2s/step - loss: 0.6794 - accuracy: 0.7027 - val_loss: 0.6300 - val_accuracy: 0.7121\n",
            "Epoch 84/200\n",
            "32/32 [==============================] - 73s 2s/step - loss: 0.6544 - accuracy: 0.7067 - val_loss: 0.5291 - val_accuracy: 0.7899\n",
            "Epoch 85/200\n",
            "32/32 [==============================] - 73s 2s/step - loss: 0.6223 - accuracy: 0.7227 - val_loss: 0.4824 - val_accuracy: 0.8132\n",
            "Epoch 86/200\n",
            "32/32 [==============================] - 73s 2s/step - loss: 0.6373 - accuracy: 0.7227 - val_loss: 0.5478 - val_accuracy: 0.7588\n",
            "Epoch 87/200\n",
            "32/32 [==============================] - 73s 2s/step - loss: 0.6462 - accuracy: 0.7017 - val_loss: 0.5339 - val_accuracy: 0.7782\n",
            "Epoch 88/200\n",
            "32/32 [==============================] - 74s 2s/step - loss: 0.6055 - accuracy: 0.7367 - val_loss: 0.4915 - val_accuracy: 0.8016\n",
            "Epoch 89/200\n",
            "32/32 [==============================] - 73s 2s/step - loss: 0.6122 - accuracy: 0.7307 - val_loss: 0.5117 - val_accuracy: 0.7743\n",
            "Epoch 90/200\n",
            "32/32 [==============================] - 73s 2s/step - loss: 0.6166 - accuracy: 0.7337 - val_loss: 0.5275 - val_accuracy: 0.8016\n",
            "Epoch 91/200\n",
            "32/32 [==============================] - 73s 2s/step - loss: 0.6290 - accuracy: 0.7267 - val_loss: 0.5138 - val_accuracy: 0.7782\n",
            "Epoch 92/200\n",
            "32/32 [==============================] - 73s 2s/step - loss: 0.5947 - accuracy: 0.7497 - val_loss: 0.4507 - val_accuracy: 0.8171\n",
            "Epoch 93/200\n",
            "32/32 [==============================] - 73s 2s/step - loss: 0.6149 - accuracy: 0.7347 - val_loss: 0.4651 - val_accuracy: 0.8327\n",
            "Epoch 94/200\n",
            "32/32 [==============================] - 74s 2s/step - loss: 0.5626 - accuracy: 0.7538 - val_loss: 0.3629 - val_accuracy: 0.8911\n",
            "Epoch 95/200\n",
            "32/32 [==============================] - 73s 2s/step - loss: 0.5782 - accuracy: 0.7487 - val_loss: 0.4712 - val_accuracy: 0.8093\n",
            "Epoch 96/200\n",
            "32/32 [==============================] - 75s 2s/step - loss: 0.6161 - accuracy: 0.7307 - val_loss: 0.4671 - val_accuracy: 0.7938\n",
            "Epoch 97/200\n",
            "32/32 [==============================] - 72s 2s/step - loss: 0.6170 - accuracy: 0.7257 - val_loss: 0.5499 - val_accuracy: 0.7549\n",
            "Epoch 98/200\n",
            "32/32 [==============================] - 73s 2s/step - loss: 0.5795 - accuracy: 0.7578 - val_loss: 0.4194 - val_accuracy: 0.8366\n",
            "Epoch 99/200\n",
            "32/32 [==============================] - 72s 2s/step - loss: 0.5403 - accuracy: 0.7698 - val_loss: 0.4292 - val_accuracy: 0.8288\n",
            "Epoch 100/200\n",
            "32/32 [==============================] - 72s 2s/step - loss: 0.5187 - accuracy: 0.7698 - val_loss: 0.3756 - val_accuracy: 0.8405\n",
            "Epoch 101/200\n",
            "32/32 [==============================] - 72s 2s/step - loss: 0.5206 - accuracy: 0.7878 - val_loss: 0.4276 - val_accuracy: 0.8366\n",
            "Epoch 102/200\n",
            "32/32 [==============================] - 72s 2s/step - loss: 0.5131 - accuracy: 0.7838 - val_loss: 0.4155 - val_accuracy: 0.8132\n",
            "Epoch 103/200\n",
            "32/32 [==============================] - 72s 2s/step - loss: 0.5028 - accuracy: 0.7788 - val_loss: 0.4281 - val_accuracy: 0.8327\n",
            "Epoch 104/200\n",
            "32/32 [==============================] - 72s 2s/step - loss: 0.5352 - accuracy: 0.7658 - val_loss: 0.4369 - val_accuracy: 0.8132\n",
            "Epoch 105/200\n",
            "32/32 [==============================] - 73s 2s/step - loss: 0.5214 - accuracy: 0.7768 - val_loss: 0.5365 - val_accuracy: 0.7665\n",
            "Epoch 106/200\n",
            "32/32 [==============================] - 73s 2s/step - loss: 0.5036 - accuracy: 0.7858 - val_loss: 0.3978 - val_accuracy: 0.8560\n",
            "Epoch 107/200\n",
            "32/32 [==============================] - 74s 2s/step - loss: 0.4542 - accuracy: 0.7958 - val_loss: 0.4451 - val_accuracy: 0.8288\n",
            "Epoch 108/200\n",
            "32/32 [==============================] - 74s 2s/step - loss: 0.5046 - accuracy: 0.7948 - val_loss: 0.3420 - val_accuracy: 0.8638\n",
            "Epoch 109/200\n",
            "32/32 [==============================] - 75s 2s/step - loss: 0.5351 - accuracy: 0.7758 - val_loss: 0.3413 - val_accuracy: 0.8755\n",
            "Epoch 110/200\n",
            "32/32 [==============================] - 74s 2s/step - loss: 0.4681 - accuracy: 0.8108 - val_loss: 0.2946 - val_accuracy: 0.9105\n",
            "Epoch 111/200\n",
            "32/32 [==============================] - 75s 2s/step - loss: 0.4658 - accuracy: 0.8008 - val_loss: 0.3190 - val_accuracy: 0.8833\n",
            "Epoch 112/200\n",
            "32/32 [==============================] - 75s 2s/step - loss: 0.4621 - accuracy: 0.7958 - val_loss: 0.3214 - val_accuracy: 0.8716\n",
            "Epoch 113/200\n",
            "32/32 [==============================] - 74s 2s/step - loss: 0.5087 - accuracy: 0.7708 - val_loss: 0.3622 - val_accuracy: 0.8521\n",
            "Epoch 114/200\n",
            "32/32 [==============================] - 74s 2s/step - loss: 0.4441 - accuracy: 0.8058 - val_loss: 0.2624 - val_accuracy: 0.9144\n",
            "Epoch 115/200\n",
            "32/32 [==============================] - 74s 2s/step - loss: 0.4550 - accuracy: 0.8058 - val_loss: 0.2677 - val_accuracy: 0.8911\n",
            "Epoch 116/200\n",
            "32/32 [==============================] - 73s 2s/step - loss: 0.4379 - accuracy: 0.8398 - val_loss: 0.3028 - val_accuracy: 0.8911\n",
            "Epoch 117/200\n",
            "32/32 [==============================] - 74s 2s/step - loss: 0.4049 - accuracy: 0.8348 - val_loss: 0.2486 - val_accuracy: 0.8949\n",
            "Epoch 118/200\n",
            "32/32 [==============================] - 74s 2s/step - loss: 0.4564 - accuracy: 0.8128 - val_loss: 0.3346 - val_accuracy: 0.8716\n",
            "Epoch 119/200\n",
            "32/32 [==============================] - 74s 2s/step - loss: 0.4318 - accuracy: 0.8128 - val_loss: 0.2571 - val_accuracy: 0.9027\n",
            "Epoch 120/200\n",
            "32/32 [==============================] - 74s 2s/step - loss: 0.3984 - accuracy: 0.8408 - val_loss: 0.2607 - val_accuracy: 0.9066\n",
            "Epoch 121/200\n",
            "32/32 [==============================] - 74s 2s/step - loss: 0.4202 - accuracy: 0.8308 - val_loss: 0.2417 - val_accuracy: 0.9261\n",
            "Epoch 122/200\n",
            "32/32 [==============================] - 74s 2s/step - loss: 0.3809 - accuracy: 0.8288 - val_loss: 0.2116 - val_accuracy: 0.9300\n",
            "Epoch 123/200\n",
            "32/32 [==============================] - 76s 2s/step - loss: 0.4577 - accuracy: 0.8118 - val_loss: 0.3272 - val_accuracy: 0.8677\n",
            "Epoch 124/200\n",
            "32/32 [==============================] - 74s 2s/step - loss: 0.4217 - accuracy: 0.8268 - val_loss: 0.2222 - val_accuracy: 0.9066\n",
            "Epoch 125/200\n",
            "32/32 [==============================] - 73s 2s/step - loss: 0.3862 - accuracy: 0.8368 - val_loss: 0.2133 - val_accuracy: 0.9261\n",
            "Epoch 126/200\n",
            "32/32 [==============================] - 74s 2s/step - loss: 0.3860 - accuracy: 0.8488 - val_loss: 0.2540 - val_accuracy: 0.8911\n",
            "Epoch 127/200\n",
            "32/32 [==============================] - 73s 2s/step - loss: 0.3878 - accuracy: 0.8398 - val_loss: 0.2262 - val_accuracy: 0.9261\n",
            "Epoch 128/200\n",
            "32/32 [==============================] - 73s 2s/step - loss: 0.3950 - accuracy: 0.8448 - val_loss: 0.2241 - val_accuracy: 0.9144\n",
            "Epoch 129/200\n",
            "32/32 [==============================] - 73s 2s/step - loss: 0.3503 - accuracy: 0.8609 - val_loss: 0.2960 - val_accuracy: 0.8949\n",
            "Epoch 130/200\n",
            "32/32 [==============================] - 73s 2s/step - loss: 0.3372 - accuracy: 0.8649 - val_loss: 0.3149 - val_accuracy: 0.8716\n",
            "Epoch 131/200\n",
            "32/32 [==============================] - 73s 2s/step - loss: 0.3894 - accuracy: 0.8368 - val_loss: 0.2137 - val_accuracy: 0.9183\n",
            "Epoch 132/200\n",
            "32/32 [==============================] - 73s 2s/step - loss: 0.3215 - accuracy: 0.8669 - val_loss: 0.2497 - val_accuracy: 0.9105\n",
            "Epoch 133/200\n",
            "32/32 [==============================] - 73s 2s/step - loss: 0.3545 - accuracy: 0.8509 - val_loss: 0.1968 - val_accuracy: 0.9261\n",
            "Epoch 134/200\n",
            "32/32 [==============================] - 73s 2s/step - loss: 0.3303 - accuracy: 0.8619 - val_loss: 0.1772 - val_accuracy: 0.9261\n",
            "Epoch 135/200\n",
            "32/32 [==============================] - 74s 2s/step - loss: 0.3255 - accuracy: 0.8799 - val_loss: 0.2083 - val_accuracy: 0.9183\n",
            "Epoch 136/200\n",
            "32/32 [==============================] - 74s 2s/step - loss: 0.3457 - accuracy: 0.8569 - val_loss: 0.1832 - val_accuracy: 0.9261\n",
            "Epoch 137/200\n",
            "32/32 [==============================] - 73s 2s/step - loss: 0.3249 - accuracy: 0.8739 - val_loss: 0.1822 - val_accuracy: 0.9183\n",
            "Epoch 138/200\n",
            "32/32 [==============================] - 73s 2s/step - loss: 0.3789 - accuracy: 0.8448 - val_loss: 0.2500 - val_accuracy: 0.9105\n",
            "Epoch 139/200\n",
            "32/32 [==============================] - 73s 2s/step - loss: 0.3203 - accuracy: 0.8729 - val_loss: 0.1652 - val_accuracy: 0.9416\n",
            "Epoch 140/200\n",
            "32/32 [==============================] - 73s 2s/step - loss: 0.3473 - accuracy: 0.8629 - val_loss: 0.1412 - val_accuracy: 0.9533\n",
            "Epoch 141/200\n",
            "32/32 [==============================] - 73s 2s/step - loss: 0.2953 - accuracy: 0.8819 - val_loss: 0.1185 - val_accuracy: 0.9611\n",
            "Epoch 142/200\n",
            "32/32 [==============================] - 73s 2s/step - loss: 0.3147 - accuracy: 0.8659 - val_loss: 0.1313 - val_accuracy: 0.9728\n",
            "Epoch 143/200\n",
            "32/32 [==============================] - 73s 2s/step - loss: 0.3118 - accuracy: 0.8719 - val_loss: 0.1407 - val_accuracy: 0.9455\n",
            "Epoch 144/200\n",
            "32/32 [==============================] - 73s 2s/step - loss: 0.3390 - accuracy: 0.8779 - val_loss: 0.1271 - val_accuracy: 0.9572\n",
            "Epoch 145/200\n",
            "32/32 [==============================] - 73s 2s/step - loss: 0.2906 - accuracy: 0.8849 - val_loss: 0.1643 - val_accuracy: 0.9377\n",
            "Epoch 146/200\n",
            "32/32 [==============================] - 73s 2s/step - loss: 0.3168 - accuracy: 0.8679 - val_loss: 0.1840 - val_accuracy: 0.9339\n",
            "Epoch 147/200\n",
            "32/32 [==============================] - 73s 2s/step - loss: 0.3238 - accuracy: 0.8669 - val_loss: 0.1600 - val_accuracy: 0.9339\n",
            "Epoch 148/200\n",
            "32/32 [==============================] - 72s 2s/step - loss: 0.2899 - accuracy: 0.8799 - val_loss: 0.1315 - val_accuracy: 0.9494\n",
            "Epoch 149/200\n",
            "32/32 [==============================] - 73s 2s/step - loss: 0.2784 - accuracy: 0.8869 - val_loss: 0.1078 - val_accuracy: 0.9767\n",
            "Epoch 150/200\n",
            "32/32 [==============================] - 73s 2s/step - loss: 0.2723 - accuracy: 0.9009 - val_loss: 0.1252 - val_accuracy: 0.9533\n",
            "Epoch 151/200\n",
            "32/32 [==============================] - 72s 2s/step - loss: 0.2662 - accuracy: 0.9079 - val_loss: 0.1734 - val_accuracy: 0.9339\n",
            "Epoch 152/200\n",
            "32/32 [==============================] - 73s 2s/step - loss: 0.2856 - accuracy: 0.8839 - val_loss: 0.1494 - val_accuracy: 0.9455\n",
            "Epoch 153/200\n",
            "32/32 [==============================] - 73s 2s/step - loss: 0.2404 - accuracy: 0.9209 - val_loss: 0.1195 - val_accuracy: 0.9689\n",
            "Epoch 154/200\n",
            "32/32 [==============================] - 73s 2s/step - loss: 0.2478 - accuracy: 0.9009 - val_loss: 0.2041 - val_accuracy: 0.9261\n",
            "Epoch 155/200\n",
            "32/32 [==============================] - 73s 2s/step - loss: 0.2755 - accuracy: 0.8859 - val_loss: 0.1453 - val_accuracy: 0.9455\n",
            "Epoch 156/200\n",
            "32/32 [==============================] - 72s 2s/step - loss: 0.2654 - accuracy: 0.8989 - val_loss: 0.1111 - val_accuracy: 0.9494\n",
            "Epoch 157/200\n",
            "32/32 [==============================] - 72s 2s/step - loss: 0.2327 - accuracy: 0.9029 - val_loss: 0.1364 - val_accuracy: 0.9455\n",
            "Epoch 158/200\n",
            "32/32 [==============================] - 73s 2s/step - loss: 0.2426 - accuracy: 0.8979 - val_loss: 0.1421 - val_accuracy: 0.9416\n",
            "Epoch 159/200\n",
            "32/32 [==============================] - 72s 2s/step - loss: 0.2481 - accuracy: 0.9059 - val_loss: 0.0900 - val_accuracy: 0.9805\n",
            "Epoch 160/200\n",
            "32/32 [==============================] - 72s 2s/step - loss: 0.2201 - accuracy: 0.9169 - val_loss: 0.1095 - val_accuracy: 0.9611\n",
            "Epoch 161/200\n",
            "32/32 [==============================] - 72s 2s/step - loss: 0.2366 - accuracy: 0.9189 - val_loss: 0.1334 - val_accuracy: 0.9339\n",
            "Epoch 162/200\n",
            "32/32 [==============================] - 72s 2s/step - loss: 0.2849 - accuracy: 0.8899 - val_loss: 0.1589 - val_accuracy: 0.9455\n",
            "Epoch 163/200\n",
            "32/32 [==============================] - 72s 2s/step - loss: 0.2620 - accuracy: 0.8999 - val_loss: 0.1519 - val_accuracy: 0.9455\n",
            "Epoch 164/200\n",
            "32/32 [==============================] - 72s 2s/step - loss: 0.2349 - accuracy: 0.9169 - val_loss: 0.1574 - val_accuracy: 0.9339\n",
            "Epoch 165/200\n",
            "32/32 [==============================] - 72s 2s/step - loss: 0.2311 - accuracy: 0.9169 - val_loss: 0.1018 - val_accuracy: 0.9572\n",
            "Epoch 166/200\n",
            "32/32 [==============================] - 72s 2s/step - loss: 0.2040 - accuracy: 0.9099 - val_loss: 0.1136 - val_accuracy: 0.9611\n",
            "Epoch 167/200\n",
            "32/32 [==============================] - 72s 2s/step - loss: 0.2430 - accuracy: 0.9039 - val_loss: 0.1301 - val_accuracy: 0.9377\n",
            "Epoch 168/200\n",
            "32/32 [==============================] - 73s 2s/step - loss: 0.2374 - accuracy: 0.9049 - val_loss: 0.1867 - val_accuracy: 0.9339\n",
            "Epoch 169/200\n",
            "32/32 [==============================] - 73s 2s/step - loss: 0.2232 - accuracy: 0.9149 - val_loss: 0.1776 - val_accuracy: 0.9222\n",
            "Epoch 170/200\n",
            "32/32 [==============================] - 72s 2s/step - loss: 0.2045 - accuracy: 0.9299 - val_loss: 0.0875 - val_accuracy: 0.9650\n",
            "Epoch 171/200\n",
            "32/32 [==============================] - 73s 2s/step - loss: 0.2126 - accuracy: 0.9129 - val_loss: 0.0880 - val_accuracy: 0.9611\n",
            "Epoch 172/200\n",
            "32/32 [==============================] - 73s 2s/step - loss: 0.2009 - accuracy: 0.9299 - val_loss: 0.0865 - val_accuracy: 0.9572\n",
            "Epoch 173/200\n",
            "32/32 [==============================] - 73s 2s/step - loss: 0.2236 - accuracy: 0.9289 - val_loss: 0.1130 - val_accuracy: 0.9416\n",
            "Epoch 174/200\n",
            "32/32 [==============================] - 73s 2s/step - loss: 0.2343 - accuracy: 0.9079 - val_loss: 0.0805 - val_accuracy: 0.9689\n",
            "Epoch 175/200\n",
            "32/32 [==============================] - 73s 2s/step - loss: 0.1963 - accuracy: 0.9309 - val_loss: 0.0868 - val_accuracy: 0.9650\n",
            "Epoch 176/200\n",
            "32/32 [==============================] - 73s 2s/step - loss: 0.1792 - accuracy: 0.9279 - val_loss: 0.1145 - val_accuracy: 0.9533\n",
            "Epoch 177/200\n",
            "32/32 [==============================] - 72s 2s/step - loss: 0.2145 - accuracy: 0.9239 - val_loss: 0.0971 - val_accuracy: 0.9650\n",
            "Epoch 178/200\n",
            "32/32 [==============================] - 72s 2s/step - loss: 0.2291 - accuracy: 0.9069 - val_loss: 0.2009 - val_accuracy: 0.9377\n",
            "Epoch 179/200\n",
            "32/32 [==============================] - 73s 2s/step - loss: 0.1865 - accuracy: 0.9349 - val_loss: 0.0620 - val_accuracy: 0.9805\n",
            "Epoch 180/200\n",
            "32/32 [==============================] - 73s 2s/step - loss: 0.1962 - accuracy: 0.9299 - val_loss: 0.1183 - val_accuracy: 0.9611\n",
            "Epoch 181/200\n",
            "32/32 [==============================] - 73s 2s/step - loss: 0.1793 - accuracy: 0.9379 - val_loss: 0.0909 - val_accuracy: 0.9689\n",
            "Epoch 182/200\n",
            "32/32 [==============================] - 73s 2s/step - loss: 0.2337 - accuracy: 0.9159 - val_loss: 0.1138 - val_accuracy: 0.9650\n",
            "Epoch 183/200\n",
            "32/32 [==============================] - 72s 2s/step - loss: 0.1744 - accuracy: 0.9329 - val_loss: 0.0753 - val_accuracy: 0.9689\n",
            "Epoch 184/200\n",
            "32/32 [==============================] - 73s 2s/step - loss: 0.1809 - accuracy: 0.9239 - val_loss: 0.0725 - val_accuracy: 0.9728\n",
            "Epoch 185/200\n",
            "32/32 [==============================] - 73s 2s/step - loss: 0.1494 - accuracy: 0.9419 - val_loss: 0.0461 - val_accuracy: 0.9922\n",
            "Epoch 186/200\n",
            "32/32 [==============================] - 73s 2s/step - loss: 0.1826 - accuracy: 0.9399 - val_loss: 0.0887 - val_accuracy: 0.9611\n",
            "Epoch 187/200\n",
            "32/32 [==============================] - 72s 2s/step - loss: 0.1856 - accuracy: 0.9269 - val_loss: 0.0957 - val_accuracy: 0.9572\n",
            "Epoch 188/200\n",
            "32/32 [==============================] - 72s 2s/step - loss: 0.1767 - accuracy: 0.9359 - val_loss: 0.0480 - val_accuracy: 0.9883\n",
            "Epoch 189/200\n",
            "32/32 [==============================] - 72s 2s/step - loss: 0.1755 - accuracy: 0.9349 - val_loss: 0.0861 - val_accuracy: 0.9728\n",
            "Epoch 190/200\n",
            "32/32 [==============================] - 72s 2s/step - loss: 0.1661 - accuracy: 0.9409 - val_loss: 0.0644 - val_accuracy: 0.9728\n",
            "Epoch 191/200\n",
            "32/32 [==============================] - 72s 2s/step - loss: 0.1915 - accuracy: 0.9329 - val_loss: 0.0770 - val_accuracy: 0.9689\n",
            "Epoch 192/200\n",
            "32/32 [==============================] - 72s 2s/step - loss: 0.2428 - accuracy: 0.9019 - val_loss: 0.0784 - val_accuracy: 0.9728\n",
            "Epoch 193/200\n",
            "32/32 [==============================] - 72s 2s/step - loss: 0.1471 - accuracy: 0.9510 - val_loss: 0.0757 - val_accuracy: 0.9728\n",
            "Epoch 194/200\n",
            "32/32 [==============================] - 72s 2s/step - loss: 0.1820 - accuracy: 0.9399 - val_loss: 0.0866 - val_accuracy: 0.9767\n",
            "Epoch 195/200\n",
            "32/32 [==============================] - 72s 2s/step - loss: 0.1738 - accuracy: 0.9389 - val_loss: 0.0572 - val_accuracy: 0.9883\n",
            "Epoch 196/200\n",
            "32/32 [==============================] - 72s 2s/step - loss: 0.1745 - accuracy: 0.9339 - val_loss: 0.0591 - val_accuracy: 0.9844\n",
            "Epoch 197/200\n",
            "32/32 [==============================] - 72s 2s/step - loss: 0.1478 - accuracy: 0.9479 - val_loss: 0.0577 - val_accuracy: 0.9767\n",
            "Epoch 198/200\n",
            "32/32 [==============================] - 72s 2s/step - loss: 0.1687 - accuracy: 0.9510 - val_loss: 0.0464 - val_accuracy: 0.9883\n",
            "Epoch 199/200\n",
            "32/32 [==============================] - 72s 2s/step - loss: 0.1767 - accuracy: 0.9329 - val_loss: 0.1527 - val_accuracy: 0.9572\n",
            "Epoch 200/200\n",
            "32/32 [==============================] - 72s 2s/step - loss: 0.1742 - accuracy: 0.9299 - val_loss: 0.0613 - val_accuracy: 0.9767\n"
          ]
        }
      ],
      "source": [
        "model.compile(optimizer='adam',\n",
        "              loss=tf.keras.losses.SparseCategoricalCrossentropy(from_logits=True),\n",
        "              metrics=['accuracy'])\n",
        "epochs= 200\n",
        "history = model.fit(\n",
        "  train_ds,\n",
        "  validation_data=val_ds,\n",
        "  epochs=epochs\n",
        ")"
      ]
    },
    {
      "cell_type": "code",
      "execution_count": 12,
      "metadata": {
        "id": "B18Qn1hKxGab",
        "colab": {
          "base_uri": "https://localhost:8080/",
          "height": 716
        },
        "outputId": "fe11a729-cf0a-456b-aeeb-2577b2908c94"
      },
      "outputs": [
        {
          "output_type": "display_data",
          "data": {
            "text/plain": [
              "<Figure size 864x864 with 2 Axes>"
            ],
            "image/png": "[encoded data removed]"
          },
          "metadata": {
            "needs_background": "light"
          }
        }
      ],
      "source": [
        "acc = history.history['accuracy']\n",
        "val_acc = history.history['val_accuracy']\n",
        "\n",
        "loss = history.history['loss']\n",
        "val_loss = history.history['val_loss']\n",
        "\n",
        "epochs_range = range(epochs)\n",
        "\n",
        "plt.figure(figsize=(12, 12))\n",
        "plt.subplot(1, 2, 1)\n",
        "plt.plot(epochs_range, acc, label='Training Accuracy')\n",
        "plt.plot(epochs_range, val_acc, label='Validation Accuracy')\n",
        "plt.legend(loc='lower right')\n",
        "plt.title('Training and Validation Accuracy')\n",
        "\n",
        "plt.subplot(1, 2, 2)\n",
        "plt.plot(epochs_range, loss, label='Training Loss')\n",
        "plt.plot(epochs_range, val_loss, label='Validation Loss')\n",
        "plt.legend(loc='lower left')\n",
        "plt.title('Training and Validation Loss')\n",
        "plt.show()"
      ]
    },
    {
      "cell_type": "code",
      "execution_count": 18,
      "metadata": {
        "id": "7QTIKE387p1V"
      },
      "outputs": [],
      "source": [
        "# Save the entire model to a HDF5 file.\n",
        "# The '.h5' extension indicates that the model should be saved to HDF5.\n",
        "\n",
        "model.save('PimpleMe.h5')"
      ]
    },
    {
      "cell_type": "code",
      "execution_count": 19,
      "metadata": {
        "id": "nzRQIvVs7wrl"
      },
      "outputs": [],
      "source": [
        "from keras.models import load_model\n",
        "\n",
        "# returns a compiled model\n",
        "# identical to the previous one\n",
        "new_model= tf.keras.models.load_model(filepath=\"PimpleMe.h5\")\n"
      ]
    },
    {
      "cell_type": "code",
      "execution_count": 23,
      "metadata": {
        "id": "gQs8LdNriePj",
        "colab": {
          "resources": {
            "http://localhost:8080/nbextensions/google.colab/files.js": {
              "data": "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",
              "ok": true,
              "headers": [
                [
                  "content-type",
                  "application/javascript"
                ]
              ],
              "status": 200,
              "status_text": ""
            }
          },
          "base_uri": "https://localhost:8080/",
          "height": 90
        },
        "outputId": "7a603edb-359f-45bb-9ac4-8ff4943556b5"
      },
      "outputs": [
        {
          "output_type": "display_data",
          "data": {
            "text/plain": [
              "<IPython.core.display.HTML object>"
            ],
            "text/html": [
              "\n",
              "     <input type=\"file\" id=\"files-db3e8aa5-122c-47d6-b02e-d0d87b277985\" name=\"files[]\" multiple disabled\n",
              "        style=\"border:none\" />\n",
              "     <output id=\"result-db3e8aa5-122c-47d6-b02e-d0d87b277985\">\n",
              "      Upload widget is only available when the cell has been executed in the\n",
              "      current browser session. Please rerun this cell to enable.\n",
              "      </output>\n",
              "      <script src=\"/nbextensions/google.colab/files.js\"></script> "
            ]
          },
          "metadata": {}
        },
        {
          "output_type": "stream",
          "name": "stdout",
          "text": [
            "Saving levle2_30.jpg to levle2_30.jpg\n",
            "The condition of the face in the picture shows Severe Moderate condition with a 99.98 percent confidence.\n"
          ]
        }
      ],
      "source": [
        "import numpy as np\n",
        "from google.colab import files\n",
        "from keras.preprocessing import image\n",
        "\n",
        "uploaded = files.upload()\n",
        "\n",
        "for fn in uploaded.keys():\n",
        " \n",
        "  # predicting images\n",
        "  path = fn\n",
        "  img = keras.preprocessing.image.load_img(\n",
        "      path, target_size=(img_height, img_width)\n",
        "  )\n",
        "  img_array = keras.preprocessing.image.img_to_array(img)\n",
        "  img_array = tf.expand_dims(img_array, 0) # Create a batch\n",
        "\n",
        "  predictions = model.predict(img_array)\n",
        "  score = tf.nn.softmax(predictions[0])\n",
        "\n",
        "  print(\n",
        "      \"The condition of the face in the picture shows {} condition with a {:.2f} percent confidence.\"\n",
        "      .format(class_names[np.argmax(score)], 100 * np.max(score))\n",
        "  )\n",
        " "
      ]
    },
    {
      "cell_type": "code",
      "execution_count": 21,
      "metadata": {
        "id": "9xfkFIjOmCwA",
        "colab": {
          "base_uri": "https://localhost:8080/"
        },
        "outputId": "229ea09d-2f10-47e9-8e07-bc1aade14f9c"
      },
      "outputs": [
        {
          "output_type": "stream",
          "name": "stderr",
          "text": [
            "WARNING:absl:Buffer deduplication procedure will be skipped when flatbuffer library is not properly loaded\n"
          ]
        }
      ],
      "source": [
        "# Convert the model.\n",
        "converter = tf.lite.TFLiteConverter.from_keras_model(new_model)\n",
        "tflite_model = converter.convert()\n",
        "\n",
        "# Save the TF Lite model.\n",
        "with tf.io.gfile.GFile('PimpleMe.tflite', 'wb') as f:\n",
        "  f.write(tflite_model)"
      ]
    },
    {
      "cell_type": "markdown",
      "metadata": {
        "id": "2AUVmf5jwbpZ"
      },
      "source": [
        ""
      ]
    },
    {
      "cell_type": "markdown",
      "metadata": {
        "id": "5ilQEdkstYx1"
      },
      "source": [
        ""
      ]
    }
  ],
  "metadata": {
    "colab": {
      "collapsed_sections": [],
      "name": "Pimpscan.ipynb",
      "provenance": [],
      "include_colab_link": true
    },
    "kernelspec": {
      "display_name": "Python 3",
      "name": "python3"
    },
    "language_info": {
      "name": "python"
    }
  },
  "nbformat": 4,
  "nbformat_minor": 0
}