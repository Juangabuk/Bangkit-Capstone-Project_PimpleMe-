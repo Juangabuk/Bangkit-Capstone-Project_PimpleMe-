{
  "nbformat": 4,
  "nbformat_minor": 0,
  "metadata": {
    "colab": {
      "name": "Pimpscan.ipynb",
      "provenance": [],
      "collapsed_sections": [],
      "include_colab_link": true
    },
    "kernelspec": {
      "name": "python3",
      "display_name": "Python 3"
    },
    "language_info": {
      "name": "python"
    }
  },
  "cells": [
    {
      "cell_type": "markdown",
      "metadata": {
        "id": "view-in-github",
        "colab_type": "text"
      },
      "source": [
        "<a href=\"https://colab.research.google.com/github/Juangabuk/Bangkit-Capstone-Project_PimpleMe-/blob/main/Pimpscan.ipynb\" target=\"_parent\"><img src=\"https://colab.research.google.com/assets/colab-badge.svg\" alt=\"Open In Colab\"/></a>"
      ]
    },
    {
      "cell_type": "code",
      "metadata": {
        "id": "_rjSQHSHw4D8"
      },
      "source": [
        "import matplotlib.pyplot as plt\n",
        "import numpy as np\n",
        "import os\n",
        "import PIL\n",
        "import tensorflow as tf\n",
        "from tensorflow import keras\n",
        "from tensorflow.keras import layers\n",
        "from tensorflow.keras.models import Sequential\n",
        "from tensorflow.keras.preprocessing.image import ImageDataGenerator"
      ],
      "execution_count": null,
      "outputs": []
    },
    {
      "cell_type": "code",
      "metadata": {
        "colab": {
          "base_uri": "https://localhost:8080/"
        },
        "id": "P1ofH_XZtbuE",
        "outputId": "1336a0b3-5e0b-439c-bc38-d5f8e5c7fd1d"
      },
      "source": [
        "from google.colab import drive\n",
        "drive.mount('/content/gdrive')"
      ],
      "execution_count": null,
      "outputs": [
        {
          "output_type": "stream",
          "name": "stdout",
          "text": [
            "Mounted at /content/gdrive\n"
          ]
        }
      ]
    },
    {
      "cell_type": "code",
      "metadata": {
        "colab": {
          "base_uri": "https://localhost:8080/"
        },
        "id": "lBtxJz_ZtcP7",
        "outputId": "299061c9-b5a2-47c2-9362-e7b4848a0e18"
      },
      "source": [
        "%cd /content/gdrive/MyDrive/CAPSTONE/Datasets\n",
        "!ls\n"
      ],
      "execution_count": null,
      "outputs": [
        {
          "output_type": "stream",
          "name": "stdout",
          "text": [
            "/content/gdrive/MyDrive/CAPSTONE/Datasets\n",
            " 109034482-young-man-with-acne-and-pimple-on-the-skin-with-brown-spots-acne-on-the-face-caused-by-hormone-or-gr.jpg\n",
            "'download (3).jfif'\n",
            " face_PNG5645.png\n",
            " levle0_22.jpg\n",
            " PimpleMe.h5\n",
            " PimpleMe.tflite\n",
            " test\n",
            " train\n"
          ]
        }
      ]
    },
    {
      "cell_type": "code",
      "metadata": {
        "colab": {
          "base_uri": "https://localhost:8080/"
        },
        "id": "1Wy16-oZte_M",
        "outputId": "4d255e22-d1f2-405b-bd3d-38760e16d70e"
      },
      "source": [
        "import os\n",
        "Level_0_dir = os.path.join('train/Level_0')\n",
        "Level_1_dir = os.path.join('train/Level_1')\n",
        "Level_2_dir = os.path.join('train/Level_2')\n",
        "\n",
        "\n",
        "print('total training Level_0 images:', len(os.listdir(Level_0_dir)))\n",
        "print('total training Level_1 images:', len(os.listdir(Level_1_dir)))\n",
        "print('total training Level_2 images:', len(os.listdir(Level_2_dir)))"
      ],
      "execution_count": null,
      "outputs": [
        {
          "output_type": "stream",
          "name": "stdout",
          "text": [
            "total training Level_0 images: 387\n",
            "total training Level_1 images: 473\n",
            "total training Level_2 images: 139\n"
          ]
        }
      ]
    },
    {
      "cell_type": "code",
      "metadata": {
        "id": "iivCzFGptjF6"
      },
      "source": [
        "batch_size = 32\n",
        "img_height = 180\n",
        "img_width = 180\n",
        "TRAINING_DIR = \"train/\"\n",
        "VALIDATION_DIR = \"test/\""
      ],
      "execution_count": null,
      "outputs": []
    },
    {
      "cell_type": "code",
      "metadata": {
        "colab": {
          "base_uri": "https://localhost:8080/"
        },
        "id": "PhGnxoxLtvSu",
        "outputId": "2742fbc9-072f-4e8d-c0ae-ebcc9c4f3718"
      },
      "source": [
        "train_ds = tf.keras.preprocessing.image_dataset_from_directory(\n",
        "  TRAINING_DIR,\n",
        "  seed=123,\n",
        "  image_size=(img_height, img_width),\n",
        "  batch_size=batch_size)\n",
        "val_ds = tf.keras.preprocessing.image_dataset_from_directory(\n",
        "  VALIDATION_DIR,\n",
        "  seed=123,\n",
        "  image_size=(img_height, img_width),\n",
        "  batch_size=batch_size)"
      ],
      "execution_count": null,
      "outputs": [
        {
          "output_type": "stream",
          "name": "stdout",
          "text": [
            "Found 999 files belonging to 3 classes.\n",
            "Found 213 files belonging to 3 classes.\n"
          ]
        }
      ]
    },
    {
      "cell_type": "code",
      "metadata": {
        "colab": {
          "base_uri": "https://localhost:8080/"
        },
        "id": "Q1PXu8HHuU6F",
        "outputId": "bc15c930-89d0-44a8-f55e-154159228773"
      },
      "source": [
        "class_names = train_ds.class_names\n",
        "print(class_names)\n"
      ],
      "execution_count": null,
      "outputs": [
        {
          "output_type": "stream",
          "name": "stdout",
          "text": [
            "['Level_0', 'Level_1', 'Level_2']\n"
          ]
        }
      ]
    },
    {
      "cell_type": "code",
      "metadata": {
        "id": "yiQg6qgAzENH"
      },
      "source": [
        "data_augmentation = keras.Sequential(\n",
        "  [\n",
        "    layers.experimental.preprocessing.RandomFlip(\"horizontal\", \n",
        "                                                 input_shape=(img_height, \n",
        "                                                              img_width,\n",
        "                                                              3)),\n",
        "    layers.experimental.preprocessing.RandomRotation(0.1),\n",
        "    layers.experimental.preprocessing.RandomZoom(0.1),\n",
        "  ]\n",
        ")"
      ],
      "execution_count": null,
      "outputs": []
    },
    {
      "cell_type": "code",
      "metadata": {
        "id": "kjv4rf5KvnOh"
      },
      "source": [
        "num_classes = 3\n",
        "\n",
        "model = Sequential([\n",
        "  data_augmentation,\n",
        "  layers.experimental.preprocessing.Rescaling(1./255),\n",
        "  layers.Conv2D(32, 3, padding='same', activation='relu'),\n",
        "  layers.MaxPooling2D(),\n",
        "  layers.Conv2D(64, 3, padding='same', activation='relu'),\n",
        "  layers.MaxPooling2D(),\n",
        "  layers.Conv2D(128, 3, padding='same', activation='relu'),\n",
        "  layers.MaxPooling2D(),\n",
        "  layers.Dropout(0.2),\n",
        "  layers.Flatten(),\n",
        "  layers.Dense(128, activation='relu'),\n",
        "  layers.Dense(num_classes)\n",
        "])"
      ],
      "execution_count": null,
      "outputs": []
    },
    {
      "cell_type": "code",
      "metadata": {
        "colab": {
          "base_uri": "https://localhost:8080/"
        },
        "id": "yqmU0Z53wbwr",
        "outputId": "83befe1b-bf5b-4f3c-a504-20a022504ecc"
      },
      "source": [
        "model.compile(optimizer='adam',\n",
        "              loss=tf.keras.losses.SparseCategoricalCrossentropy(from_logits=True),\n",
        "              metrics=['accuracy'])\n",
        "epochs=100\n",
        "history = model.fit(\n",
        "  train_ds,\n",
        "  validation_data=val_ds,\n",
        "  epochs=epochs\n",
        ")"
      ],
      "execution_count": null,
      "outputs": [
        {
          "output_type": "stream",
          "name": "stdout",
          "text": [
            "Epoch 1/100\n",
            "32/32 [==============================] - 85s 2s/step - loss: 0.9590 - accuracy: 0.4885 - val_loss: 0.9433 - val_accuracy: 0.4740\n",
            "Epoch 2/100\n",
            "32/32 [==============================] - 75s 2s/step - loss: 0.9685 - accuracy: 0.4985 - val_loss: 0.9342 - val_accuracy: 0.4583\n",
            "Epoch 3/100\n",
            "32/32 [==============================] - 73s 2s/step - loss: 0.9623 - accuracy: 0.5105 - val_loss: 0.8965 - val_accuracy: 0.5521\n",
            "Epoch 4/100\n",
            "32/32 [==============================] - 74s 2s/step - loss: 0.9635 - accuracy: 0.5105 - val_loss: 0.9591 - val_accuracy: 0.4948\n",
            "Epoch 5/100\n",
            "32/32 [==============================] - 72s 2s/step - loss: 0.9665 - accuracy: 0.4925 - val_loss: 0.9409 - val_accuracy: 0.4219\n",
            "Epoch 6/100\n",
            "32/32 [==============================] - 73s 2s/step - loss: 0.9613 - accuracy: 0.4955 - val_loss: 0.9207 - val_accuracy: 0.5625\n",
            "Epoch 7/100\n",
            "32/32 [==============================] - 73s 2s/step - loss: 0.9416 - accuracy: 0.4945 - val_loss: 0.9162 - val_accuracy: 0.5312\n",
            "Epoch 8/100\n",
            "32/32 [==============================] - 72s 2s/step - loss: 0.9364 - accuracy: 0.5265 - val_loss: 0.8979 - val_accuracy: 0.6146\n",
            "Epoch 9/100\n",
            "32/32 [==============================] - 72s 2s/step - loss: 0.9289 - accuracy: 0.4985 - val_loss: 0.8825 - val_accuracy: 0.5312\n",
            "Epoch 10/100\n",
            "32/32 [==============================] - 73s 2s/step - loss: 0.9222 - accuracy: 0.5375 - val_loss: 0.9600 - val_accuracy: 0.5156\n",
            "Epoch 11/100\n",
            "32/32 [==============================] - 72s 2s/step - loss: 0.9453 - accuracy: 0.5155 - val_loss: 0.9236 - val_accuracy: 0.5104\n",
            "Epoch 12/100\n",
            "32/32 [==============================] - 73s 2s/step - loss: 0.9311 - accuracy: 0.5095 - val_loss: 0.9508 - val_accuracy: 0.5052\n",
            "Epoch 13/100\n",
            "32/32 [==============================] - 72s 2s/step - loss: 0.9338 - accuracy: 0.5225 - val_loss: 0.9250 - val_accuracy: 0.5000\n",
            "Epoch 14/100\n",
            "32/32 [==============================] - 74s 2s/step - loss: 0.9404 - accuracy: 0.5165 - val_loss: 0.9017 - val_accuracy: 0.5208\n",
            "Epoch 15/100\n",
            "32/32 [==============================] - 73s 2s/step - loss: 0.9035 - accuracy: 0.5205 - val_loss: 0.8863 - val_accuracy: 0.5677\n",
            "Epoch 16/100\n",
            "32/32 [==============================] - 73s 2s/step - loss: 0.9098 - accuracy: 0.5325 - val_loss: 0.9110 - val_accuracy: 0.5000\n",
            "Epoch 17/100\n",
            "32/32 [==============================] - 73s 2s/step - loss: 0.9201 - accuracy: 0.5435 - val_loss: 0.9003 - val_accuracy: 0.5469\n",
            "Epoch 18/100\n",
            "32/32 [==============================] - 73s 2s/step - loss: 0.9091 - accuracy: 0.5355 - val_loss: 0.8589 - val_accuracy: 0.5729\n",
            "Epoch 19/100\n",
            "32/32 [==============================] - 73s 2s/step - loss: 0.9027 - accuracy: 0.5375 - val_loss: 0.8987 - val_accuracy: 0.5781\n",
            "Epoch 20/100\n",
            "32/32 [==============================] - 74s 2s/step - loss: 0.9195 - accuracy: 0.5425 - val_loss: 0.9099 - val_accuracy: 0.5417\n",
            "Epoch 21/100\n",
            "32/32 [==============================] - 74s 2s/step - loss: 0.9104 - accuracy: 0.5445 - val_loss: 0.8798 - val_accuracy: 0.5729\n",
            "Epoch 22/100\n",
            "32/32 [==============================] - 73s 2s/step - loss: 0.9061 - accuracy: 0.5385 - val_loss: 0.8619 - val_accuracy: 0.6042\n",
            "Epoch 23/100\n",
            "32/32 [==============================] - 72s 2s/step - loss: 0.8955 - accuracy: 0.5335 - val_loss: 0.8843 - val_accuracy: 0.5521\n",
            "Epoch 24/100\n",
            "32/32 [==============================] - 73s 2s/step - loss: 0.8790 - accuracy: 0.5826 - val_loss: 0.8342 - val_accuracy: 0.6042\n",
            "Epoch 25/100\n",
            "32/32 [==============================] - 74s 2s/step - loss: 0.8869 - accuracy: 0.5666 - val_loss: 0.8331 - val_accuracy: 0.6354\n",
            "Epoch 26/100\n",
            "32/32 [==============================] - 74s 2s/step - loss: 0.8857 - accuracy: 0.5656 - val_loss: 0.8536 - val_accuracy: 0.5312\n",
            "Epoch 27/100\n",
            "32/32 [==============================] - 73s 2s/step - loss: 0.8933 - accuracy: 0.5626 - val_loss: 0.8127 - val_accuracy: 0.6458\n",
            "Epoch 28/100\n",
            "32/32 [==============================] - 73s 2s/step - loss: 0.8751 - accuracy: 0.5696 - val_loss: 0.8454 - val_accuracy: 0.6146\n",
            "Epoch 29/100\n",
            "32/32 [==============================] - 72s 2s/step - loss: 0.8549 - accuracy: 0.5776 - val_loss: 0.8664 - val_accuracy: 0.5729\n",
            "Epoch 30/100\n",
            "32/32 [==============================] - 72s 2s/step - loss: 0.8755 - accuracy: 0.5966 - val_loss: 0.7882 - val_accuracy: 0.6094\n",
            "Epoch 31/100\n",
            "32/32 [==============================] - 73s 2s/step - loss: 0.8517 - accuracy: 0.5756 - val_loss: 0.8227 - val_accuracy: 0.6094\n",
            "Epoch 32/100\n",
            "32/32 [==============================] - 73s 2s/step - loss: 0.8509 - accuracy: 0.5906 - val_loss: 0.8254 - val_accuracy: 0.6250\n",
            "Epoch 33/100\n",
            "32/32 [==============================] - 73s 2s/step - loss: 0.8413 - accuracy: 0.6126 - val_loss: 0.8051 - val_accuracy: 0.6094\n",
            "Epoch 34/100\n",
            "32/32 [==============================] - 74s 2s/step - loss: 0.8261 - accuracy: 0.6116 - val_loss: 0.8193 - val_accuracy: 0.5990\n",
            "Epoch 35/100\n",
            "32/32 [==============================] - 73s 2s/step - loss: 0.8177 - accuracy: 0.6156 - val_loss: 0.8250 - val_accuracy: 0.6042\n",
            "Epoch 36/100\n",
            "32/32 [==============================] - 74s 2s/step - loss: 0.8201 - accuracy: 0.5986 - val_loss: 0.7342 - val_accuracy: 0.6458\n",
            "Epoch 37/100\n",
            "32/32 [==============================] - 73s 2s/step - loss: 0.8350 - accuracy: 0.5856 - val_loss: 0.7491 - val_accuracy: 0.6615\n",
            "Epoch 38/100\n",
            "32/32 [==============================] - 72s 2s/step - loss: 0.8333 - accuracy: 0.6256 - val_loss: 0.7581 - val_accuracy: 0.6354\n",
            "Epoch 39/100\n",
            "32/32 [==============================] - 73s 2s/step - loss: 0.8010 - accuracy: 0.6086 - val_loss: 0.6819 - val_accuracy: 0.6771\n",
            "Epoch 40/100\n",
            "32/32 [==============================] - 73s 2s/step - loss: 0.7942 - accuracy: 0.6356 - val_loss: 0.6972 - val_accuracy: 0.6875\n",
            "Epoch 41/100\n",
            "32/32 [==============================] - 73s 2s/step - loss: 0.7921 - accuracy: 0.6306 - val_loss: 0.6935 - val_accuracy: 0.6667\n",
            "Epoch 42/100\n",
            "32/32 [==============================] - 74s 2s/step - loss: 0.7977 - accuracy: 0.6396 - val_loss: 0.7537 - val_accuracy: 0.6198\n",
            "Epoch 43/100\n",
            "32/32 [==============================] - 75s 2s/step - loss: 0.7877 - accuracy: 0.6266 - val_loss: 0.6904 - val_accuracy: 0.6771\n",
            "Epoch 44/100\n",
            "32/32 [==============================] - 77s 2s/step - loss: 0.7941 - accuracy: 0.6286 - val_loss: 0.8011 - val_accuracy: 0.6406\n",
            "Epoch 45/100\n",
            "32/32 [==============================] - 77s 2s/step - loss: 0.7904 - accuracy: 0.6156 - val_loss: 0.6385 - val_accuracy: 0.6823\n",
            "Epoch 46/100\n",
            "32/32 [==============================] - 77s 2s/step - loss: 0.7572 - accuracy: 0.6527 - val_loss: 0.6674 - val_accuracy: 0.6927\n",
            "Epoch 47/100\n",
            "32/32 [==============================] - 77s 2s/step - loss: 0.7466 - accuracy: 0.6547 - val_loss: 0.7054 - val_accuracy: 0.6667\n",
            "Epoch 48/100\n",
            "32/32 [==============================] - 73s 2s/step - loss: 0.7768 - accuracy: 0.6246 - val_loss: 0.6544 - val_accuracy: 0.6979\n",
            "Epoch 49/100\n",
            "32/32 [==============================] - 75s 2s/step - loss: 0.7587 - accuracy: 0.6436 - val_loss: 0.7052 - val_accuracy: 0.6979\n",
            "Epoch 50/100\n",
            "32/32 [==============================] - 73s 2s/step - loss: 0.7808 - accuracy: 0.6346 - val_loss: 0.6405 - val_accuracy: 0.7240\n",
            "Epoch 51/100\n",
            "32/32 [==============================] - 72s 2s/step - loss: 0.7412 - accuracy: 0.6617 - val_loss: 0.5666 - val_accuracy: 0.7500\n",
            "Epoch 52/100\n",
            "32/32 [==============================] - 73s 2s/step - loss: 0.7325 - accuracy: 0.6507 - val_loss: 0.5596 - val_accuracy: 0.7448\n",
            "Epoch 53/100\n",
            "32/32 [==============================] - 74s 2s/step - loss: 0.7471 - accuracy: 0.6406 - val_loss: 0.6203 - val_accuracy: 0.6979\n",
            "Epoch 54/100\n",
            "32/32 [==============================] - 71s 2s/step - loss: 0.6969 - accuracy: 0.6937 - val_loss: 0.6289 - val_accuracy: 0.7031\n",
            "Epoch 55/100\n",
            "32/32 [==============================] - 72s 2s/step - loss: 0.7262 - accuracy: 0.6617 - val_loss: 0.5842 - val_accuracy: 0.6927\n",
            "Epoch 56/100\n",
            "32/32 [==============================] - 72s 2s/step - loss: 0.7316 - accuracy: 0.6527 - val_loss: 0.5719 - val_accuracy: 0.6979\n",
            "Epoch 57/100\n",
            "32/32 [==============================] - 74s 2s/step - loss: 0.7088 - accuracy: 0.6747 - val_loss: 0.6099 - val_accuracy: 0.7083\n",
            "Epoch 58/100\n",
            "32/32 [==============================] - 72s 2s/step - loss: 0.6883 - accuracy: 0.6807 - val_loss: 0.5591 - val_accuracy: 0.7135\n",
            "Epoch 59/100\n",
            "32/32 [==============================] - 72s 2s/step - loss: 0.6809 - accuracy: 0.6997 - val_loss: 0.5604 - val_accuracy: 0.7656\n",
            "Epoch 60/100\n",
            "32/32 [==============================] - 72s 2s/step - loss: 0.6420 - accuracy: 0.7067 - val_loss: 0.5260 - val_accuracy: 0.7760\n",
            "Epoch 61/100\n",
            "32/32 [==============================] - 72s 2s/step - loss: 0.6484 - accuracy: 0.7107 - val_loss: 0.5511 - val_accuracy: 0.6979\n",
            "Epoch 62/100\n",
            "32/32 [==============================] - 72s 2s/step - loss: 0.6682 - accuracy: 0.6917 - val_loss: 0.4941 - val_accuracy: 0.7552\n",
            "Epoch 63/100\n",
            "32/32 [==============================] - 72s 2s/step - loss: 0.6693 - accuracy: 0.6897 - val_loss: 0.5150 - val_accuracy: 0.7344\n",
            "Epoch 64/100\n",
            "32/32 [==============================] - 73s 2s/step - loss: 0.6065 - accuracy: 0.7097 - val_loss: 0.6129 - val_accuracy: 0.7240\n",
            "Epoch 65/100\n",
            "32/32 [==============================] - 73s 2s/step - loss: 0.6531 - accuracy: 0.7207 - val_loss: 0.5306 - val_accuracy: 0.7344\n",
            "Epoch 66/100\n",
            "32/32 [==============================] - 72s 2s/step - loss: 0.6247 - accuracy: 0.7087 - val_loss: 0.4977 - val_accuracy: 0.7448\n",
            "Epoch 67/100\n",
            "32/32 [==============================] - 73s 2s/step - loss: 0.5995 - accuracy: 0.7207 - val_loss: 0.4603 - val_accuracy: 0.8177\n",
            "Epoch 68/100\n",
            "32/32 [==============================] - 74s 2s/step - loss: 0.6595 - accuracy: 0.6987 - val_loss: 0.5310 - val_accuracy: 0.7812\n",
            "Epoch 69/100\n",
            "32/32 [==============================] - 74s 2s/step - loss: 0.6573 - accuracy: 0.6957 - val_loss: 0.5516 - val_accuracy: 0.7552\n",
            "Epoch 70/100\n",
            "32/32 [==============================] - 75s 2s/step - loss: 0.6403 - accuracy: 0.7007 - val_loss: 0.5313 - val_accuracy: 0.7656\n",
            "Epoch 71/100\n",
            "32/32 [==============================] - 75s 2s/step - loss: 0.5985 - accuracy: 0.7357 - val_loss: 0.4690 - val_accuracy: 0.7865\n",
            "Epoch 72/100\n",
            "32/32 [==============================] - 74s 2s/step - loss: 0.5805 - accuracy: 0.7477 - val_loss: 0.4449 - val_accuracy: 0.7865\n",
            "Epoch 73/100\n",
            "32/32 [==============================] - 75s 2s/step - loss: 0.5776 - accuracy: 0.7377 - val_loss: 0.5007 - val_accuracy: 0.7865\n",
            "Epoch 74/100\n",
            "32/32 [==============================] - 73s 2s/step - loss: 0.5526 - accuracy: 0.7738 - val_loss: 0.4962 - val_accuracy: 0.7656\n",
            "Epoch 75/100\n",
            "32/32 [==============================] - 72s 2s/step - loss: 0.5349 - accuracy: 0.7668 - val_loss: 0.4193 - val_accuracy: 0.8177\n",
            "Epoch 76/100\n",
            "32/32 [==============================] - 74s 2s/step - loss: 0.5493 - accuracy: 0.7568 - val_loss: 0.4009 - val_accuracy: 0.8281\n",
            "Epoch 77/100\n",
            "32/32 [==============================] - 75s 2s/step - loss: 0.5533 - accuracy: 0.7467 - val_loss: 0.3835 - val_accuracy: 0.8385\n",
            "Epoch 78/100\n",
            "32/32 [==============================] - 76s 2s/step - loss: 0.5315 - accuracy: 0.7548 - val_loss: 0.3778 - val_accuracy: 0.8281\n",
            "Epoch 79/100\n",
            "32/32 [==============================] - 74s 2s/step - loss: 0.5190 - accuracy: 0.7678 - val_loss: 0.3491 - val_accuracy: 0.8594\n",
            "Epoch 80/100\n",
            "32/32 [==============================] - 75s 2s/step - loss: 0.5507 - accuracy: 0.7698 - val_loss: 0.3424 - val_accuracy: 0.8906\n",
            "Epoch 81/100\n",
            "32/32 [==============================] - 76s 2s/step - loss: 0.5196 - accuracy: 0.7738 - val_loss: 0.4576 - val_accuracy: 0.7917\n",
            "Epoch 82/100\n",
            "32/32 [==============================] - 74s 2s/step - loss: 0.4759 - accuracy: 0.7868 - val_loss: 0.3829 - val_accuracy: 0.8333\n",
            "Epoch 83/100\n",
            "32/32 [==============================] - 73s 2s/step - loss: 0.5580 - accuracy: 0.7518 - val_loss: 0.4233 - val_accuracy: 0.8177\n",
            "Epoch 84/100\n",
            "32/32 [==============================] - 73s 2s/step - loss: 0.5065 - accuracy: 0.7748 - val_loss: 0.3540 - val_accuracy: 0.8646\n",
            "Epoch 85/100\n",
            "32/32 [==============================] - 73s 2s/step - loss: 0.4841 - accuracy: 0.7828 - val_loss: 0.4250 - val_accuracy: 0.7969\n",
            "Epoch 86/100\n",
            "32/32 [==============================] - 75s 2s/step - loss: 0.4814 - accuracy: 0.7808 - val_loss: 0.4455 - val_accuracy: 0.7812\n",
            "Epoch 87/100\n",
            "32/32 [==============================] - 74s 2s/step - loss: 0.4828 - accuracy: 0.7878 - val_loss: 0.4150 - val_accuracy: 0.7917\n",
            "Epoch 88/100\n",
            "32/32 [==============================] - 73s 2s/step - loss: 0.4070 - accuracy: 0.8428 - val_loss: 0.3564 - val_accuracy: 0.8490\n",
            "Epoch 89/100\n",
            "32/32 [==============================] - 73s 2s/step - loss: 0.4606 - accuracy: 0.8108 - val_loss: 0.3481 - val_accuracy: 0.8385\n",
            "Epoch 90/100\n",
            "32/32 [==============================] - 73s 2s/step - loss: 0.4675 - accuracy: 0.7878 - val_loss: 0.3782 - val_accuracy: 0.8438\n",
            "Epoch 91/100\n",
            "32/32 [==============================] - 75s 2s/step - loss: 0.4372 - accuracy: 0.8028 - val_loss: 0.3497 - val_accuracy: 0.8438\n",
            "Epoch 92/100\n",
            "32/32 [==============================] - 75s 2s/step - loss: 0.4447 - accuracy: 0.8098 - val_loss: 0.3760 - val_accuracy: 0.8750\n",
            "Epoch 93/100\n",
            "32/32 [==============================] - 74s 2s/step - loss: 0.4393 - accuracy: 0.8208 - val_loss: 0.2998 - val_accuracy: 0.8646\n",
            "Epoch 94/100\n",
            "32/32 [==============================] - 74s 2s/step - loss: 0.4269 - accuracy: 0.8128 - val_loss: 0.3954 - val_accuracy: 0.8490\n",
            "Epoch 95/100\n",
            "32/32 [==============================] - 74s 2s/step - loss: 0.4301 - accuracy: 0.8168 - val_loss: 0.3340 - val_accuracy: 0.8646\n",
            "Epoch 96/100\n",
            "32/32 [==============================] - 76s 2s/step - loss: 0.4241 - accuracy: 0.8248 - val_loss: 0.3615 - val_accuracy: 0.8333\n",
            "Epoch 97/100\n",
            "32/32 [==============================] - 76s 2s/step - loss: 0.4329 - accuracy: 0.8168 - val_loss: 0.3064 - val_accuracy: 0.8802\n",
            "Epoch 98/100\n",
            "32/32 [==============================] - 75s 2s/step - loss: 0.3943 - accuracy: 0.8428 - val_loss: 0.3427 - val_accuracy: 0.8490\n",
            "Epoch 99/100\n",
            "32/32 [==============================] - 73s 2s/step - loss: 0.3880 - accuracy: 0.8458 - val_loss: 0.3426 - val_accuracy: 0.8698\n",
            "Epoch 100/100\n",
            "32/32 [==============================] - 73s 2s/step - loss: 0.4045 - accuracy: 0.8328 - val_loss: 0.3206 - val_accuracy: 0.8802\n"
          ]
        }
      ]
    },
    {
      "cell_type": "code",
      "metadata": {
        "colab": {
          "base_uri": "https://localhost:8080/",
          "height": 499
        },
        "id": "B18Qn1hKxGab",
        "outputId": "6b4211cf-f611-4f5c-d674-6d4b63d2e87f"
      },
      "source": [
        "acc = history.history['accuracy']\n",
        "val_acc = history.history['val_accuracy']\n",
        "\n",
        "loss = history.history['loss']\n",
        "val_loss = history.history['val_loss']\n",
        "\n",
        "epochs_range = range(epochs)\n",
        "\n",
        "plt.figure(figsize=(8, 8))\n",
        "plt.subplot(1, 2, 1)\n",
        "plt.plot(epochs_range, acc, label='Training Accuracy')\n",
        "plt.plot(epochs_range, val_acc, label='Validation Accuracy')\n",
        "plt.legend(loc='lower right')\n",
        "plt.title('Training and Validation Accuracy')\n",
        "\n",
        "plt.subplot(1, 2, 2)\n",
        "plt.plot(epochs_range, loss, label='Training Loss')\n",
        "plt.plot(epochs_range, val_loss, label='Validation Loss')\n",
        "plt.legend(loc='upper right')\n",
        "plt.title('Training and Validation Loss')\n",
        "plt.show()"
      ],
      "execution_count": null,
      "outputs": [
        {
          "output_type": "display_data",
          "data": {
            "text/plain": [
              "<Figure size 576x576 with 2 Axes>"
            ],
            "image/png": "[encoded data removed]"
          },
          "metadata": {
            "needs_background": "light"
          }
        }
      ]
    },
    {
      "cell_type": "code",
      "metadata": {
        "id": "7QTIKE387p1V"
      },
      "source": [
        "# Save the entire model to a HDF5 file.\n",
        "# The '.h5' extension indicates that the model should be saved to HDF5.\n",
        "\n",
        "model.save('PimpleMe.h5')"
      ],
      "execution_count": null,
      "outputs": []
    },
    {
      "cell_type": "code",
      "metadata": {
        "id": "nzRQIvVs7wrl"
      },
      "source": [
        "from keras.models import load_model\n",
        "\n",
        "# returns a compiled model\n",
        "# identical to the previous one\n",
        "new_model= tf.keras.models.load_model(filepath=\"PimpleMe.h5\")\n"
      ],
      "execution_count": null,
      "outputs": []
    },
    {
      "cell_type": "code",
      "metadata": {
        "colab": {
          "resources": {
            "http://localhost:8080/nbextensions/google.colab/files.js": {
              "data": "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",
              "ok": true,
              "headers": [
                [
                  "content-type",
                  "application/javascript"
                ]
              ],
              "status": 200,
              "status_text": ""
            }
          },
          "base_uri": "https://localhost:8080/",
          "height": 91
        },
        "id": "gQs8LdNriePj",
        "outputId": "e83c0b1d-8c63-4401-f11b-c8e0c7da857d"
      },
      "source": [
        "import numpy as np\n",
        "from google.colab import files\n",
        "from keras.preprocessing import image\n",
        "\n",
        "uploaded = files.upload()\n",
        "\n",
        "for fn in uploaded.keys():\n",
        " \n",
        "  # predicting images\n",
        "  path = fn\n",
        "  img = keras.preprocessing.image.load_img(\n",
        "      path, target_size=(img_height, img_width)\n",
        "  )\n",
        "  img_array = keras.preprocessing.image.img_to_array(img)\n",
        "  img_array = tf.expand_dims(img_array, 0) # Create a batch\n",
        "\n",
        "  predictions = model.predict(img_array)\n",
        "  score = tf.nn.softmax(predictions[0])\n",
        "\n",
        "  print(\n",
        "      \"This image most likely belongs to {} with a {:.2f} percent confidence.\"\n",
        "      .format(class_names[np.argmax(score)], 100 * np.max(score))\n",
        "  )\n",
        " "
      ],
      "execution_count": null,
      "outputs": [
        {
          "output_type": "display_data",
          "data": {
            "text/plain": [
              "<IPython.core.display.HTML object>"
            ],
            "text/html": [
              "\n",
              "     <input type=\"file\" id=\"files-413f8c5f-7114-4297-8486-c25cdc941983\" name=\"files[]\" multiple disabled\n",
              "        style=\"border:none\" />\n",
              "     <output id=\"result-413f8c5f-7114-4297-8486-c25cdc941983\">\n",
              "      Upload widget is only available when the cell has been executed in the\n",
              "      current browser session. Please rerun this cell to enable.\n",
              "      </output>\n",
              "      <script src=\"/nbextensions/google.colab/files.js\"></script> "
            ]
          },
          "metadata": {}
        },
        {
          "output_type": "stream",
          "name": "stdout",
          "text": [
            "Saving IMG-20220414-WA0003.jpg to IMG-20220414-WA0003.jpg\n",
            "This image most likely belongs to Level_1 with a 36.18 percent confidence.\n"
          ]
        }
      ]
    },
    {
      "cell_type": "code",
      "metadata": {
        "colab": {
          "base_uri": "https://localhost:8080/"
        },
        "id": "9xfkFIjOmCwA",
        "outputId": "d5bb9f64-8b97-4416-978f-611b7ec9a4dc"
      },
      "source": [
        "# Convert the model.\n",
        "converter = tf.lite.TFLiteConverter.from_keras_model(new_model)\n",
        "tflite_model = converter.convert()\n",
        "\n",
        "# Save the TF Lite model.\n",
        "with tf.io.gfile.GFile('PimpleMe.tflite', 'wb') as f:\n",
        "  f.write(tflite_model)"
      ],
      "execution_count": null,
      "outputs": [
        {
          "output_type": "stream",
          "name": "stderr",
          "text": [
            "WARNING:absl:Buffer deduplication procedure will be skipped when flatbuffer library is not properly loaded\n"
          ]
        }
      ]
    },
    {
      "cell_type": "markdown",
      "metadata": {
        "id": "2AUVmf5jwbpZ"
      },
      "source": [
        ""
      ]
    },
    {
      "cell_type": "markdown",
      "metadata": {
        "id": "5ilQEdkstYx1"
      },
      "source": [
        ""
      ]
    }
  ]
}