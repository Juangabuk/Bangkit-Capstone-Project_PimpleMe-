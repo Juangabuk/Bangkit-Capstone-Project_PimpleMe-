{
  "cells": [
    {
      "cell_type": "markdown",
      "metadata": {
        "id": "view-in-github",
        "colab_type": "text"
      },
      "source": [
        "<a href=\"https://colab.research.google.com/github/Juangabuk/Bangkit-Capstone-Project_PimpleMe-/blob/main/PimpscanREALFinale.ipynb\" target=\"_parent\"><img src=\"https://colab.research.google.com/assets/colab-badge.svg\" alt=\"Open In Colab\"/></a>"
      ]
    },
    {
      "cell_type": "code",
      "execution_count": 1,
      "metadata": {
        "id": "_rjSQHSHw4D8"
      },
      "outputs": [],
      "source": [
        "import matplotlib.pyplot as plt\n",
        "import numpy as np\n",
        "import os\n",
        "import PIL\n",
        "import tensorflow as tf\n",
        "from tensorflow import keras\n",
        "from tensorflow.keras import layers\n",
        "from tensorflow.keras.models import Sequential\n",
        "from tensorflow.keras.preprocessing.image import ImageDataGenerator\n",
        "from tensorflow.keras.layers import Dense, Dropout, Activation, Flatten, Conv2D, MaxPooling2D"
      ]
    },
    {
      "cell_type": "code",
      "execution_count": 2,
      "metadata": {
        "id": "P1ofH_XZtbuE",
        "colab": {
          "base_uri": "https://localhost:8080/"
        },
        "outputId": "2254cec7-18d5-4eea-ab44-5c9e7b2fa4e5"
      },
      "outputs": [
        {
          "output_type": "stream",
          "name": "stdout",
          "text": [
            "Mounted at /content/gdrive\n"
          ]
        }
      ],
      "source": [
        "from google.colab import drive\n",
        "drive.mount('/content/gdrive')"
      ]
    },
    {
      "cell_type": "code",
      "execution_count": 3,
      "metadata": {
        "id": "lBtxJz_ZtcP7",
        "colab": {
          "base_uri": "https://localhost:8080/"
        },
        "outputId": "54b0ccb3-ba3e-48b0-b37a-c75a25b4adba"
      },
      "outputs": [
        {
          "output_type": "stream",
          "name": "stdout",
          "text": [
            "/content/gdrive/MyDrive/CAPSTONE/Datasets\n",
            " 047c9c9ca40f83c2cafe387c6bb65f4c.png   levle3_133.jpg\t  test\n",
            "'levle3_133 (1).jpg'\t\t        PimpleMe.h5\t  train\n",
            "'levle3_133 (2).jpg'\t\t        PimpleMe.tflite\n"
          ]
        }
      ],
      "source": [
        "%cd /content/gdrive/MyDrive/CAPSTONE/Datasets\n",
        "!ls\n"
      ]
    },
    {
      "cell_type": "code",
      "execution_count": 4,
      "metadata": {
        "id": "1Wy16-oZte_M",
        "colab": {
          "base_uri": "https://localhost:8080/"
        },
        "outputId": "617fa79a-bc2b-43fc-8bf1-7aecfc16307c"
      },
      "outputs": [
        {
          "output_type": "stream",
          "name": "stdout",
          "text": [
            "total training Mild images: 387\n",
            "total training Moderate images: 473\n",
            "total training Severe Moderate images: 139\n",
            "total training Normal images: 81\n"
          ]
        }
      ],
      "source": [
        "import os\n",
        "Mild_dir = os.path.join('train/Mild')\n",
        "Moderate_dir = os.path.join('train/Moderate')\n",
        "Severe_Moderate_dir = os.path.join('train/Severe Moderate')\n",
        "Normal_dir = os.path.join('train/Normal')\n",
        "\n",
        "print('total training Mild images:', len(os.listdir(Mild_dir)))\n",
        "print('total training Moderate images:', len(os.listdir(Moderate_dir)))\n",
        "print('total training Severe Moderate images:', len(os.listdir(Severe_Moderate_dir)))\n",
        "print('total training Normal images:', len(os.listdir(Normal_dir)))"
      ]
    },
    {
      "cell_type": "code",
      "execution_count": 5,
      "metadata": {
        "id": "iivCzFGptjF6"
      },
      "outputs": [],
      "source": [
        "batch_size = 32\n",
        "img_height = 180\n",
        "img_width = 180\n",
        "TRAINING_DIR = \"train/\"\n",
        "VALIDATION_DIR = \"test/\""
      ]
    },
    {
      "cell_type": "code",
      "execution_count": 6,
      "metadata": {
        "id": "PhGnxoxLtvSu",
        "colab": {
          "base_uri": "https://localhost:8080/"
        },
        "outputId": "741cf702-45a9-41de-8070-76abd8bf6f2e"
      },
      "outputs": [
        {
          "output_type": "stream",
          "name": "stdout",
          "text": [
            "Found 1072 files belonging to 4 classes.\n",
            "Found 298 files belonging to 4 classes.\n"
          ]
        }
      ],
      "source": [
        "train_ds = tf.keras.preprocessing.image_dataset_from_directory(\n",
        "  TRAINING_DIR,\n",
        "  seed=123,\n",
        "  image_size=(img_height, img_width),\n",
        "  batch_size=batch_size)\n",
        "val_ds = tf.keras.preprocessing.image_dataset_from_directory(\n",
        "  VALIDATION_DIR,\n",
        "  seed=123,\n",
        "  image_size=(img_height, img_width),\n",
        "  batch_size=batch_size)"
      ]
    },
    {
      "cell_type": "code",
      "execution_count": 7,
      "metadata": {
        "id": "Q1PXu8HHuU6F",
        "colab": {
          "base_uri": "https://localhost:8080/"
        },
        "outputId": "767946ae-f4ca-40c6-b7d4-9bfca85e6729"
      },
      "outputs": [
        {
          "output_type": "stream",
          "name": "stdout",
          "text": [
            "['Mild', 'Moderate', 'Normal', 'Severe Moderate']\n"
          ]
        }
      ],
      "source": [
        "class_names = train_ds.class_names\n",
        "print(class_names)\n"
      ]
    },
    {
      "cell_type": "markdown",
      "source": [
        "# Image Augmentation\n",
        "Do some random rotation and zoom as well."
      ],
      "metadata": {
        "id": "57GLSLQ30yzx"
      }
    },
    {
      "cell_type": "code",
      "execution_count": 8,
      "metadata": {
        "id": "yiQg6qgAzENH"
      },
      "outputs": [],
      "source": [
        "data_augmentation = keras.Sequential(\n",
        "  [\n",
        "    layers.experimental.preprocessing.RandomFlip(\"horizontal\", \n",
        "                                                 input_shape=(img_height, \n",
        "                                                              img_width,\n",
        "                                                              3)),\n",
        "    layers.experimental.preprocessing.RandomRotation(0.1),\n",
        "    layers.experimental.preprocessing.RandomZoom(0.1),\n",
        "  ]\n",
        ")"
      ]
    },
    {
      "cell_type": "markdown",
      "source": [
        " # Create CNN Architecture\n",
        " 3 main Layer with 1 additional hidden layer\n",
        " \n",
        " Using \"same\" padding.\n"
      ],
      "metadata": {
        "id": "ZdUMbNRZ0N9B"
      }
    },
    {
      "cell_type": "code",
      "execution_count": 9,
      "metadata": {
        "id": "kjv4rf5KvnOh"
      },
      "outputs": [],
      "source": [
        "num_classes = 5\n",
        "\n",
        "model = Sequential([\n",
        "  data_augmentation,\n",
        "  layers.experimental.preprocessing.Rescaling(1./255),\n",
        "  layers.Conv2D(32, 3, activation='relu', padding='same'),\n",
        "  layers.MaxPooling2D(),\n",
        "  layers.Conv2D(64, 3, activation='relu', padding='same'),\n",
        "  layers.MaxPooling2D(),\n",
        "  layers.Conv2D(128, 3, activation='relu', padding='same'),\n",
        "  layers.MaxPooling2D(),\n",
        "  layers.Dropout(0.2),\n",
        "  layers.Flatten(),\n",
        "  layers.Dense(128, activation='relu'),\n",
        "  layers.Dense(num_classes)\n",
        "])"
      ]
    },
    {
      "cell_type": "code",
      "execution_count": 10,
      "metadata": {
        "id": "yqmU0Z53wbwr",
        "colab": {
          "base_uri": "https://localhost:8080/"
        },
        "outputId": "5129e34c-3155-4e5d-c29c-06003a433645"
      },
      "outputs": [
        {
          "metadata": {
            "tags": null
          },
          "name": "stdout",
          "output_type": "stream",
          "text": [
            "Epoch 1/200\n",
            "34/34 [==============================] - 194s 5s/step - loss: 1.0692 - accuracy: 0.4701 - val_loss: 1.0186 - val_accuracy: 0.5235\n",
            "Epoch 2/200\n",
            "34/34 [==============================] - 78s 2s/step - loss: 0.9746 - accuracy: 0.4851 - val_loss: 0.9484 - val_accuracy: 0.5101\n",
            "Epoch 3/200\n",
            "34/34 [==============================] - 80s 2s/step - loss: 0.9603 - accuracy: 0.4823 - val_loss: 0.9899 - val_accuracy: 0.5336\n",
            "Epoch 4/200\n",
            "34/34 [==============================] - 79s 2s/step - loss: 0.9378 - accuracy: 0.4981 - val_loss: 0.9731 - val_accuracy: 0.5168\n",
            "Epoch 5/200\n",
            "34/34 [==============================] - 80s 2s/step - loss: 0.9158 - accuracy: 0.5028 - val_loss: 1.0591 - val_accuracy: 0.4195\n",
            "Epoch 6/200\n",
            "34/34 [==============================] - 78s 2s/step - loss: 0.9252 - accuracy: 0.5037 - val_loss: 1.0355 - val_accuracy: 0.5403\n",
            "Epoch 7/200\n",
            "34/34 [==============================] - 77s 2s/step - loss: 0.9232 - accuracy: 0.5187 - val_loss: 1.0378 - val_accuracy: 0.5000\n",
            "Epoch 8/200\n",
            "34/34 [==============================] - 77s 2s/step - loss: 0.9210 - accuracy: 0.5187 - val_loss: 0.8983 - val_accuracy: 0.5336\n",
            "Epoch 9/200\n",
            "34/34 [==============================] - 81s 2s/step - loss: 0.9243 - accuracy: 0.5205 - val_loss: 0.9240 - val_accuracy: 0.5134\n",
            "Epoch 10/200\n",
            "34/34 [==============================] - 77s 2s/step - loss: 0.9066 - accuracy: 0.5336 - val_loss: 0.9258 - val_accuracy: 0.5067\n",
            "Epoch 11/200\n",
            "34/34 [==============================] - 77s 2s/step - loss: 0.8919 - accuracy: 0.5243 - val_loss: 1.0528 - val_accuracy: 0.4832\n",
            "Epoch 12/200\n",
            "34/34 [==============================] - 81s 2s/step - loss: 0.9059 - accuracy: 0.5233 - val_loss: 1.0044 - val_accuracy: 0.5168\n",
            "Epoch 13/200\n",
            "34/34 [==============================] - 79s 2s/step - loss: 0.9026 - accuracy: 0.5345 - val_loss: 0.9251 - val_accuracy: 0.5235\n",
            "Epoch 14/200\n",
            "34/34 [==============================] - 78s 2s/step - loss: 0.8907 - accuracy: 0.5448 - val_loss: 0.9278 - val_accuracy: 0.5436\n",
            "Epoch 15/200\n",
            "34/34 [==============================] - 78s 2s/step - loss: 0.8963 - accuracy: 0.5326 - val_loss: 0.9843 - val_accuracy: 0.5268\n",
            "Epoch 16/200\n",
            "34/34 [==============================] - 80s 2s/step - loss: 0.9050 - accuracy: 0.5224 - val_loss: 0.9419 - val_accuracy: 0.5336\n",
            "Epoch 17/200\n",
            "34/34 [==============================] - 83s 2s/step - loss: 0.9018 - accuracy: 0.5233 - val_loss: 0.9478 - val_accuracy: 0.5470\n",
            "Epoch 18/200\n",
            "34/34 [==============================] - 78s 2s/step - loss: 0.8815 - accuracy: 0.5457 - val_loss: 0.9137 - val_accuracy: 0.5537\n",
            "Epoch 19/200\n",
            "34/34 [==============================] - 78s 2s/step - loss: 0.8821 - accuracy: 0.5494 - val_loss: 1.0141 - val_accuracy: 0.5369\n",
            "Epoch 20/200\n",
            "34/34 [==============================] - 78s 2s/step - loss: 0.8796 - accuracy: 0.5541 - val_loss: 0.9429 - val_accuracy: 0.5403\n",
            "Epoch 21/200\n",
            "34/34 [==============================] - 79s 2s/step - loss: 0.8704 - accuracy: 0.5569 - val_loss: 0.9260 - val_accuracy: 0.5101\n",
            "Epoch 22/200\n",
            "34/34 [==============================] - 78s 2s/step - loss: 0.8861 - accuracy: 0.5550 - val_loss: 0.8808 - val_accuracy: 0.5537\n",
            "Epoch 23/200\n",
            "34/34 [==============================] - 78s 2s/step - loss: 0.8768 - accuracy: 0.5466 - val_loss: 0.8902 - val_accuracy: 0.5570\n",
            "Epoch 24/200\n",
            "34/34 [==============================] - 78s 2s/step - loss: 0.8629 - accuracy: 0.5569 - val_loss: 0.8543 - val_accuracy: 0.5872\n",
            "Epoch 25/200\n",
            "34/34 [==============================] - 82s 2s/step - loss: 0.8695 - accuracy: 0.5625 - val_loss: 0.8281 - val_accuracy: 0.6107\n",
            "Epoch 26/200\n",
            "34/34 [==============================] - 79s 2s/step - loss: 0.8419 - accuracy: 0.5802 - val_loss: 0.8198 - val_accuracy: 0.5973\n",
            "Epoch 27/200\n",
            "34/34 [==============================] - 78s 2s/step - loss: 0.8550 - accuracy: 0.5812 - val_loss: 0.8442 - val_accuracy: 0.6040\n",
            "Epoch 28/200\n",
            "34/34 [==============================] - 80s 2s/step - loss: 0.8578 - accuracy: 0.5625 - val_loss: 0.8810 - val_accuracy: 0.5940\n",
            "Epoch 29/200\n",
            "34/34 [==============================] - 77s 2s/step - loss: 0.8522 - accuracy: 0.5550 - val_loss: 0.8930 - val_accuracy: 0.5973\n",
            "Epoch 30/200\n",
            "34/34 [==============================] - 77s 2s/step - loss: 0.8551 - accuracy: 0.5522 - val_loss: 0.8104 - val_accuracy: 0.6309\n",
            "Epoch 31/200\n",
            "34/34 [==============================] - 81s 2s/step - loss: 0.8633 - accuracy: 0.5644 - val_loss: 0.8397 - val_accuracy: 0.5604\n",
            "Epoch 32/200\n",
            "34/34 [==============================] - 78s 2s/step - loss: 0.8314 - accuracy: 0.6026 - val_loss: 0.8837 - val_accuracy: 0.6342\n",
            "Epoch 33/200\n",
            "34/34 [==============================] - 79s 2s/step - loss: 0.8207 - accuracy: 0.5756 - val_loss: 0.7485 - val_accuracy: 0.6678\n",
            "Epoch 34/200\n",
            "34/34 [==============================] - 82s 2s/step - loss: 0.8263 - accuracy: 0.5830 - val_loss: 0.8300 - val_accuracy: 0.6443\n",
            "Epoch 35/200\n",
            "34/34 [==============================] - 77s 2s/step - loss: 0.8167 - accuracy: 0.5970 - val_loss: 0.7684 - val_accuracy: 0.6644\n",
            "Epoch 36/200\n",
            "34/34 [==============================] - 77s 2s/step - loss: 0.7972 - accuracy: 0.6073 - val_loss: 0.8231 - val_accuracy: 0.5839\n",
            "Epoch 37/200\n",
            "34/34 [==============================] - 80s 2s/step - loss: 0.8114 - accuracy: 0.5896 - val_loss: 0.8794 - val_accuracy: 0.5671\n",
            "Epoch 38/200\n",
            "34/34 [==============================] - 78s 2s/step - loss: 0.8180 - accuracy: 0.5961 - val_loss: 0.8082 - val_accuracy: 0.6074\n",
            "Epoch 39/200\n",
            "34/34 [==============================] - 78s 2s/step - loss: 0.7882 - accuracy: 0.6194 - val_loss: 0.8382 - val_accuracy: 0.6141\n",
            "Epoch 40/200\n",
            "34/34 [==============================] - 79s 2s/step - loss: 0.8108 - accuracy: 0.5998 - val_loss: 0.7463 - val_accuracy: 0.6544\n",
            "Epoch 41/200\n",
            "34/34 [==============================] - 77s 2s/step - loss: 0.7957 - accuracy: 0.5896 - val_loss: 0.7545 - val_accuracy: 0.5973\n",
            "Epoch 42/200\n",
            "34/34 [==============================] - 78s 2s/step - loss: 0.8029 - accuracy: 0.5886 - val_loss: 0.7470 - val_accuracy: 0.6409\n",
            "Epoch 43/200\n",
            "34/34 [==============================] - 79s 2s/step - loss: 0.7700 - accuracy: 0.6297 - val_loss: 0.7918 - val_accuracy: 0.5973\n",
            "Epoch 44/200\n",
            "34/34 [==============================] - 78s 2s/step - loss: 0.7701 - accuracy: 0.6166 - val_loss: 0.6941 - val_accuracy: 0.6544\n",
            "Epoch 45/200\n",
            "34/34 [==============================] - 78s 2s/step - loss: 0.7792 - accuracy: 0.6213 - val_loss: 0.6903 - val_accuracy: 0.6879\n",
            "Epoch 46/200\n",
            "34/34 [==============================] - 82s 2s/step - loss: 0.7740 - accuracy: 0.6157 - val_loss: 0.6931 - val_accuracy: 0.6577\n",
            "Epoch 47/200\n",
            "34/34 [==============================] - 77s 2s/step - loss: 0.7619 - accuracy: 0.6390 - val_loss: 0.7100 - val_accuracy: 0.6946\n",
            "Epoch 48/200\n",
            "34/34 [==============================] - 77s 2s/step - loss: 0.7737 - accuracy: 0.6343 - val_loss: 0.7149 - val_accuracy: 0.6946\n",
            "Epoch 49/200\n",
            "34/34 [==============================] - 80s 2s/step - loss: 0.7636 - accuracy: 0.6343 - val_loss: 0.6773 - val_accuracy: 0.6745\n",
            "Epoch 50/200\n",
            "34/34 [==============================] - 77s 2s/step - loss: 0.7576 - accuracy: 0.6343 - val_loss: 0.7096 - val_accuracy: 0.6846\n",
            "Epoch 51/200\n",
            "34/34 [==============================] - 76s 2s/step - loss: 0.7435 - accuracy: 0.6399 - val_loss: 0.7221 - val_accuracy: 0.6510\n",
            "Epoch 52/200\n",
            "34/34 [==============================] - 79s 2s/step - loss: 0.7787 - accuracy: 0.6287 - val_loss: 0.7688 - val_accuracy: 0.6208\n",
            "Epoch 53/200\n",
            "34/34 [==============================] - 77s 2s/step - loss: 0.7410 - accuracy: 0.6427 - val_loss: 0.7304 - val_accuracy: 0.6107\n",
            "Epoch 54/200\n",
            "34/34 [==============================] - 78s 2s/step - loss: 0.7279 - accuracy: 0.6576 - val_loss: 0.7098 - val_accuracy: 0.6946\n",
            "Epoch 55/200\n",
            "34/34 [==============================] - 78s 2s/step - loss: 0.7237 - accuracy: 0.6567 - val_loss: 0.6968 - val_accuracy: 0.6577\n",
            "Epoch 56/200\n",
            "34/34 [==============================] - 78s 2s/step - loss: 0.6996 - accuracy: 0.6707 - val_loss: 0.6106 - val_accuracy: 0.7315\n",
            "Epoch 57/200\n",
            "34/34 [==============================] - 79s 2s/step - loss: 0.7096 - accuracy: 0.6549 - val_loss: 0.6469 - val_accuracy: 0.7315\n",
            "Epoch 58/200\n",
            "34/34 [==============================] - 79s 2s/step - loss: 0.7226 - accuracy: 0.6698 - val_loss: 0.5898 - val_accuracy: 0.7315\n",
            "Epoch 59/200\n",
            "34/34 [==============================] - 76s 2s/step - loss: 0.6912 - accuracy: 0.6679 - val_loss: 0.7062 - val_accuracy: 0.6812\n",
            "Epoch 60/200\n",
            "34/34 [==============================] - 77s 2s/step - loss: 0.7189 - accuracy: 0.6632 - val_loss: 0.7239 - val_accuracy: 0.6678\n",
            "Epoch 61/200\n",
            "34/34 [==============================] - 78s 2s/step - loss: 0.7477 - accuracy: 0.6521 - val_loss: 0.6732 - val_accuracy: 0.6510\n",
            "Epoch 62/200\n",
            "34/34 [==============================] - 78s 2s/step - loss: 0.6881 - accuracy: 0.6847 - val_loss: 0.6345 - val_accuracy: 0.7013\n",
            "Epoch 63/200\n",
            "34/34 [==============================] - 78s 2s/step - loss: 0.6838 - accuracy: 0.6838 - val_loss: 0.5676 - val_accuracy: 0.7651\n",
            "Epoch 64/200\n",
            "34/34 [==============================] - 77s 2s/step - loss: 0.6468 - accuracy: 0.7118 - val_loss: 0.5558 - val_accuracy: 0.7617\n",
            "Epoch 65/200\n",
            "34/34 [==============================] - 77s 2s/step - loss: 0.6864 - accuracy: 0.6791 - val_loss: 0.5666 - val_accuracy: 0.7550\n",
            "Epoch 66/200\n",
            "34/34 [==============================] - 77s 2s/step - loss: 0.6640 - accuracy: 0.7034 - val_loss: 0.6055 - val_accuracy: 0.7047\n",
            "Epoch 67/200\n",
            "34/34 [==============================] - 79s 2s/step - loss: 0.6513 - accuracy: 0.6978 - val_loss: 0.5362 - val_accuracy: 0.7752\n",
            "Epoch 68/200\n",
            "34/34 [==============================] - 77s 2s/step - loss: 0.6740 - accuracy: 0.6922 - val_loss: 0.5418 - val_accuracy: 0.7483\n",
            "Epoch 69/200\n",
            "34/34 [==============================] - 77s 2s/step - loss: 0.6558 - accuracy: 0.6716 - val_loss: 0.5408 - val_accuracy: 0.7483\n",
            "Epoch 70/200\n",
            "34/34 [==============================] - 79s 2s/step - loss: 0.6513 - accuracy: 0.7006 - val_loss: 0.4981 - val_accuracy: 0.7886\n",
            "Epoch 71/200\n",
            "34/34 [==============================] - 76s 2s/step - loss: 0.6162 - accuracy: 0.7062 - val_loss: 0.4876 - val_accuracy: 0.7718\n",
            "Epoch 72/200\n",
            "34/34 [==============================] - 76s 2s/step - loss: 0.6429 - accuracy: 0.6959 - val_loss: 0.4686 - val_accuracy: 0.8087\n",
            "Epoch 73/200\n",
            "34/34 [==============================] - 78s 2s/step - loss: 0.6188 - accuracy: 0.7379 - val_loss: 0.5369 - val_accuracy: 0.7550\n",
            "Epoch 74/200\n",
            "34/34 [==============================] - 77s 2s/step - loss: 0.6177 - accuracy: 0.7127 - val_loss: 0.7120 - val_accuracy: 0.6376\n",
            "Epoch 75/200\n",
            "34/34 [==============================] - 78s 2s/step - loss: 0.5999 - accuracy: 0.7267 - val_loss: 0.5286 - val_accuracy: 0.7752\n",
            "Epoch 76/200\n",
            "34/34 [==============================] - 78s 2s/step - loss: 0.5976 - accuracy: 0.7304 - val_loss: 0.4967 - val_accuracy: 0.7819\n",
            "Epoch 77/200\n",
            "34/34 [==============================] - 77s 2s/step - loss: 0.5832 - accuracy: 0.7369 - val_loss: 0.5136 - val_accuracy: 0.7852\n",
            "Epoch 78/200\n",
            "34/34 [==============================] - 78s 2s/step - loss: 0.5985 - accuracy: 0.7276 - val_loss: 0.4843 - val_accuracy: 0.8054\n",
            "Epoch 79/200\n",
            "34/34 [==============================] - 80s 2s/step - loss: 0.5726 - accuracy: 0.7463 - val_loss: 0.4413 - val_accuracy: 0.8087\n",
            "Epoch 80/200\n",
            "34/34 [==============================] - 78s 2s/step - loss: 0.5670 - accuracy: 0.7323 - val_loss: 0.4528 - val_accuracy: 0.8054\n",
            "Epoch 81/200\n",
            "34/34 [==============================] - 80s 2s/step - loss: 0.5688 - accuracy: 0.7472 - val_loss: 0.3924 - val_accuracy: 0.8356\n",
            "Epoch 82/200\n",
            "34/34 [==============================] - 77s 2s/step - loss: 0.5506 - accuracy: 0.7547 - val_loss: 0.3998 - val_accuracy: 0.8322\n",
            "Epoch 83/200\n",
            "34/34 [==============================] - 77s 2s/step - loss: 0.5372 - accuracy: 0.7556 - val_loss: 0.4658 - val_accuracy: 0.7919\n",
            "Epoch 84/200\n",
            "34/34 [==============================] - 77s 2s/step - loss: 0.5553 - accuracy: 0.7556 - val_loss: 0.3834 - val_accuracy: 0.8322\n",
            "Epoch 85/200\n",
            "34/34 [==============================] - 75s 2s/step - loss: 0.5497 - accuracy: 0.7631 - val_loss: 0.4002 - val_accuracy: 0.8456\n",
            "Epoch 86/200\n",
            "34/34 [==============================] - 76s 2s/step - loss: 0.5284 - accuracy: 0.7547 - val_loss: 0.3561 - val_accuracy: 0.8591\n",
            "Epoch 87/200\n",
            "34/34 [==============================] - 77s 2s/step - loss: 0.4970 - accuracy: 0.7799 - val_loss: 0.3466 - val_accuracy: 0.8624\n",
            "Epoch 88/200\n",
            "34/34 [==============================] - 75s 2s/step - loss: 0.5048 - accuracy: 0.7687 - val_loss: 0.3458 - val_accuracy: 0.8591\n",
            "Epoch 89/200\n",
            "34/34 [==============================] - 76s 2s/step - loss: 0.5193 - accuracy: 0.7901 - val_loss: 0.3539 - val_accuracy: 0.8490\n",
            "Epoch 90/200\n",
            "34/34 [==============================] - 76s 2s/step - loss: 0.4930 - accuracy: 0.7677 - val_loss: 0.3081 - val_accuracy: 0.8826\n",
            "Epoch 91/200\n",
            "34/34 [==============================] - 75s 2s/step - loss: 0.4769 - accuracy: 0.7882 - val_loss: 0.3208 - val_accuracy: 0.8826\n",
            "Epoch 92/200\n",
            "34/34 [==============================] - 76s 2s/step - loss: 0.4688 - accuracy: 0.7994 - val_loss: 0.3129 - val_accuracy: 0.8792\n",
            "Epoch 93/200\n",
            "34/34 [==============================] - 77s 2s/step - loss: 0.5385 - accuracy: 0.7593 - val_loss: 0.3345 - val_accuracy: 0.8792\n",
            "Epoch 94/200\n",
            "34/34 [==============================] - 75s 2s/step - loss: 0.5269 - accuracy: 0.7817 - val_loss: 0.3812 - val_accuracy: 0.8725\n",
            "Epoch 95/200\n",
            "34/34 [==============================] - 76s 2s/step - loss: 0.4720 - accuracy: 0.7864 - val_loss: 0.3239 - val_accuracy: 0.8893\n",
            "Epoch 96/200\n",
            "34/34 [==============================] - 78s 2s/step - loss: 0.4846 - accuracy: 0.7920 - val_loss: 0.3998 - val_accuracy: 0.8658\n",
            "Epoch 97/200\n",
            "34/34 [==============================] - 76s 2s/step - loss: 0.4576 - accuracy: 0.8050 - val_loss: 0.2852 - val_accuracy: 0.8792\n",
            "Epoch 98/200\n",
            "34/34 [==============================] - 77s 2s/step - loss: 0.4746 - accuracy: 0.7854 - val_loss: 0.3257 - val_accuracy: 0.8758\n",
            "Epoch 99/200\n",
            "34/34 [==============================] - 76s 2s/step - loss: 0.4824 - accuracy: 0.7957 - val_loss: 0.3859 - val_accuracy: 0.8490\n",
            "Epoch 100/200\n",
            "34/34 [==============================] - 78s 2s/step - loss: 0.4689 - accuracy: 0.8032 - val_loss: 0.3827 - val_accuracy: 0.8456\n",
            "Epoch 101/200\n",
            "34/34 [==============================] - 79s 2s/step - loss: 0.4719 - accuracy: 0.8060 - val_loss: 0.3153 - val_accuracy: 0.8725\n",
            "Epoch 102/200\n",
            "34/34 [==============================] - 75s 2s/step - loss: 0.4622 - accuracy: 0.8004 - val_loss: 0.2760 - val_accuracy: 0.8792\n",
            "Epoch 103/200\n",
            "34/34 [==============================] - 76s 2s/step - loss: 0.4458 - accuracy: 0.8200 - val_loss: 0.3320 - val_accuracy: 0.8725\n",
            "Epoch 104/200\n",
            "34/34 [==============================] - 76s 2s/step - loss: 0.4411 - accuracy: 0.7985 - val_loss: 0.2490 - val_accuracy: 0.9161\n",
            "Epoch 105/200\n",
            "34/34 [==============================] - 76s 2s/step - loss: 0.4083 - accuracy: 0.8293 - val_loss: 0.2761 - val_accuracy: 0.8993\n",
            "Epoch 106/200\n",
            "34/34 [==============================] - 75s 2s/step - loss: 0.3690 - accuracy: 0.8405 - val_loss: 0.2445 - val_accuracy: 0.8893\n",
            "Epoch 107/200\n",
            "34/34 [==============================] - 76s 2s/step - loss: 0.4323 - accuracy: 0.7957 - val_loss: 0.2488 - val_accuracy: 0.9094\n",
            "Epoch 108/200\n",
            "34/34 [==============================] - 75s 2s/step - loss: 0.4006 - accuracy: 0.8368 - val_loss: 0.2643 - val_accuracy: 0.8993\n",
            "Epoch 109/200\n",
            "34/34 [==============================] - 77s 2s/step - loss: 0.4057 - accuracy: 0.8274 - val_loss: 0.2164 - val_accuracy: 0.9329\n",
            "Epoch 110/200\n",
            "34/34 [==============================] - 75s 2s/step - loss: 0.3467 - accuracy: 0.8591 - val_loss: 0.1932 - val_accuracy: 0.9362\n",
            "Epoch 111/200\n",
            "34/34 [==============================] - 75s 2s/step - loss: 0.3684 - accuracy: 0.8265 - val_loss: 0.2685 - val_accuracy: 0.8993\n",
            "Epoch 112/200\n",
            "34/34 [==============================] - 77s 2s/step - loss: 0.3554 - accuracy: 0.8489 - val_loss: 0.2218 - val_accuracy: 0.9128\n",
            "Epoch 113/200\n",
            "34/34 [==============================] - 76s 2s/step - loss: 0.4030 - accuracy: 0.8405 - val_loss: 0.2661 - val_accuracy: 0.8926\n",
            "Epoch 114/200\n",
            "34/34 [==============================] - 75s 2s/step - loss: 0.3973 - accuracy: 0.8433 - val_loss: 0.2171 - val_accuracy: 0.9195\n",
            "Epoch 115/200\n",
            "34/34 [==============================] - 77s 2s/step - loss: 0.4095 - accuracy: 0.8218 - val_loss: 0.2647 - val_accuracy: 0.8960\n",
            "Epoch 116/200\n",
            "34/34 [==============================] - 76s 2s/step - loss: 0.3931 - accuracy: 0.8442 - val_loss: 0.2490 - val_accuracy: 0.8826\n",
            "Epoch 117/200\n",
            "34/34 [==============================] - 76s 2s/step - loss: 0.3226 - accuracy: 0.8703 - val_loss: 0.1874 - val_accuracy: 0.9329\n",
            "Epoch 118/200\n",
            "34/34 [==============================] - 76s 2s/step - loss: 0.3226 - accuracy: 0.8629 - val_loss: 0.2880 - val_accuracy: 0.8826\n",
            "Epoch 119/200\n",
            "34/34 [==============================] - 75s 2s/step - loss: 0.3654 - accuracy: 0.8563 - val_loss: 0.2439 - val_accuracy: 0.9027\n",
            "Epoch 120/200\n",
            "34/34 [==============================] - 76s 2s/step - loss: 0.3459 - accuracy: 0.8498 - val_loss: 0.1740 - val_accuracy: 0.9329\n",
            "Epoch 121/200\n",
            "34/34 [==============================] - 75s 2s/step - loss: 0.3484 - accuracy: 0.8470 - val_loss: 0.1888 - val_accuracy: 0.9262\n",
            "Epoch 122/200\n",
            "34/34 [==============================] - 76s 2s/step - loss: 0.3054 - accuracy: 0.8703 - val_loss: 0.1964 - val_accuracy: 0.9195\n",
            "Epoch 123/200\n",
            "34/34 [==============================] - 77s 2s/step - loss: 0.3182 - accuracy: 0.8675 - val_loss: 0.1801 - val_accuracy: 0.9329\n",
            "Epoch 124/200\n",
            "34/34 [==============================] - 76s 2s/step - loss: 0.3110 - accuracy: 0.8713 - val_loss: 0.1595 - val_accuracy: 0.9497\n",
            "Epoch 125/200\n",
            "34/34 [==============================] - 76s 2s/step - loss: 0.3358 - accuracy: 0.8582 - val_loss: 0.1489 - val_accuracy: 0.9564\n",
            "Epoch 126/200\n",
            "34/34 [==============================] - 77s 2s/step - loss: 0.3111 - accuracy: 0.8797 - val_loss: 0.1580 - val_accuracy: 0.9396\n",
            "Epoch 127/200\n",
            "34/34 [==============================] - 75s 2s/step - loss: 0.2953 - accuracy: 0.8797 - val_loss: 0.1346 - val_accuracy: 0.9497\n",
            "Epoch 128/200\n",
            "34/34 [==============================] - 78s 2s/step - loss: 0.3000 - accuracy: 0.8759 - val_loss: 0.1182 - val_accuracy: 0.9664\n",
            "Epoch 129/200\n",
            "34/34 [==============================] - 76s 2s/step - loss: 0.2796 - accuracy: 0.8825 - val_loss: 0.1419 - val_accuracy: 0.9497\n",
            "Epoch 130/200\n",
            "34/34 [==============================] - 77s 2s/step - loss: 0.2775 - accuracy: 0.8881 - val_loss: 0.1934 - val_accuracy: 0.9262\n",
            "Epoch 131/200\n",
            "34/34 [==============================] - 78s 2s/step - loss: 0.2909 - accuracy: 0.8750 - val_loss: 0.1766 - val_accuracy: 0.9463\n",
            "Epoch 132/200\n",
            "34/34 [==============================] - 76s 2s/step - loss: 0.2721 - accuracy: 0.8890 - val_loss: 0.1346 - val_accuracy: 0.9564\n",
            "Epoch 133/200\n",
            "34/34 [==============================] - 77s 2s/step - loss: 0.2644 - accuracy: 0.8965 - val_loss: 0.1457 - val_accuracy: 0.9564\n",
            "Epoch 134/200\n",
            "34/34 [==============================] - 76s 2s/step - loss: 0.2666 - accuracy: 0.8843 - val_loss: 0.2068 - val_accuracy: 0.9329\n",
            "Epoch 135/200\n",
            "34/34 [==============================] - 76s 2s/step - loss: 0.2629 - accuracy: 0.8937 - val_loss: 0.1898 - val_accuracy: 0.9228\n",
            "Epoch 136/200\n",
            "34/34 [==============================] - 77s 2s/step - loss: 0.2804 - accuracy: 0.8862 - val_loss: 0.1615 - val_accuracy: 0.9430\n",
            "Epoch 137/200\n",
            "34/34 [==============================] - 76s 2s/step - loss: 0.2510 - accuracy: 0.9039 - val_loss: 0.1612 - val_accuracy: 0.9463\n",
            "Epoch 138/200\n",
            "34/34 [==============================] - 77s 2s/step - loss: 0.2472 - accuracy: 0.9123 - val_loss: 0.1767 - val_accuracy: 0.9195\n",
            "Epoch 139/200\n",
            "34/34 [==============================] - 75s 2s/step - loss: 0.2770 - accuracy: 0.8825 - val_loss: 0.1674 - val_accuracy: 0.9430\n",
            "Epoch 140/200\n",
            "34/34 [==============================] - 75s 2s/step - loss: 0.2343 - accuracy: 0.9058 - val_loss: 0.1197 - val_accuracy: 0.9463\n",
            "Epoch 141/200\n",
            "34/34 [==============================] - 78s 2s/step - loss: 0.2338 - accuracy: 0.9086 - val_loss: 0.1606 - val_accuracy: 0.9396\n",
            "Epoch 142/200\n",
            "34/34 [==============================] - 77s 2s/step - loss: 0.2947 - accuracy: 0.8787 - val_loss: 0.0838 - val_accuracy: 0.9765\n",
            "Epoch 143/200\n",
            "34/34 [==============================] - 77s 2s/step - loss: 0.2383 - accuracy: 0.9021 - val_loss: 0.0966 - val_accuracy: 0.9765\n",
            "Epoch 144/200\n",
            "34/34 [==============================] - 78s 2s/step - loss: 0.2554 - accuracy: 0.8946 - val_loss: 0.1569 - val_accuracy: 0.9463\n",
            "Epoch 145/200\n",
            "34/34 [==============================] - 77s 2s/step - loss: 0.2767 - accuracy: 0.8843 - val_loss: 0.1263 - val_accuracy: 0.9564\n",
            "Epoch 146/200\n",
            "34/34 [==============================] - 79s 2s/step - loss: 0.2309 - accuracy: 0.9049 - val_loss: 0.1327 - val_accuracy: 0.9564\n",
            "Epoch 147/200\n",
            "34/34 [==============================] - 76s 2s/step - loss: 0.2506 - accuracy: 0.8993 - val_loss: 0.0968 - val_accuracy: 0.9698\n",
            "Epoch 148/200\n",
            "34/34 [==============================] - 78s 2s/step - loss: 0.2036 - accuracy: 0.9300 - val_loss: 0.1274 - val_accuracy: 0.9463\n",
            "Epoch 149/200\n",
            "34/34 [==============================] - 79s 2s/step - loss: 0.2345 - accuracy: 0.9011 - val_loss: 0.1169 - val_accuracy: 0.9664\n",
            "Epoch 150/200\n",
            "34/34 [==============================] - 78s 2s/step - loss: 0.2391 - accuracy: 0.9067 - val_loss: 0.1160 - val_accuracy: 0.9497\n",
            "Epoch 151/200\n",
            "34/34 [==============================] - 79s 2s/step - loss: 0.2104 - accuracy: 0.9039 - val_loss: 0.0985 - val_accuracy: 0.9698\n",
            "Epoch 152/200\n",
            "34/34 [==============================] - 77s 2s/step - loss: 0.2562 - accuracy: 0.8993 - val_loss: 0.1287 - val_accuracy: 0.9564\n",
            "Epoch 153/200\n",
            "34/34 [==============================] - 78s 2s/step - loss: 0.2310 - accuracy: 0.9226 - val_loss: 0.1026 - val_accuracy: 0.9664\n",
            "Epoch 154/200\n",
            "34/34 [==============================] - 76s 2s/step - loss: 0.2005 - accuracy: 0.9244 - val_loss: 0.1166 - val_accuracy: 0.9497\n",
            "Epoch 155/200\n",
            "34/34 [==============================] - 76s 2s/step - loss: 0.2217 - accuracy: 0.9095 - val_loss: 0.0645 - val_accuracy: 0.9799\n",
            "Epoch 156/200\n",
            "34/34 [==============================] - 75s 2s/step - loss: 0.2089 - accuracy: 0.9254 - val_loss: 0.0795 - val_accuracy: 0.9698\n",
            "Epoch 157/200\n",
            "34/34 [==============================] - 76s 2s/step - loss: 0.1796 - accuracy: 0.9366 - val_loss: 0.0726 - val_accuracy: 0.9765\n",
            "Epoch 158/200\n",
            "34/34 [==============================] - 77s 2s/step - loss: 0.1708 - accuracy: 0.9310 - val_loss: 0.0626 - val_accuracy: 0.9899\n",
            "Epoch 159/200\n",
            "34/34 [==============================] - 76s 2s/step - loss: 0.1297 - accuracy: 0.9515 - val_loss: 0.0782 - val_accuracy: 0.9597\n",
            "Epoch 160/200\n",
            "34/34 [==============================] - 76s 2s/step - loss: 0.1789 - accuracy: 0.9328 - val_loss: 0.0814 - val_accuracy: 0.9698\n",
            "Epoch 161/200\n",
            "34/34 [==============================] - 76s 2s/step - loss: 0.2021 - accuracy: 0.9244 - val_loss: 0.0985 - val_accuracy: 0.9732\n",
            "Epoch 162/200\n",
            "34/34 [==============================] - 78s 2s/step - loss: 0.2202 - accuracy: 0.9226 - val_loss: 0.0802 - val_accuracy: 0.9732\n",
            "Epoch 163/200\n",
            "34/34 [==============================] - 77s 2s/step - loss: 0.1678 - accuracy: 0.9384 - val_loss: 0.0474 - val_accuracy: 0.9899\n",
            "Epoch 164/200\n",
            "34/34 [==============================] - 78s 2s/step - loss: 0.1719 - accuracy: 0.9300 - val_loss: 0.0576 - val_accuracy: 0.9832\n",
            "Epoch 165/200\n",
            "34/34 [==============================] - 77s 2s/step - loss: 0.1891 - accuracy: 0.9170 - val_loss: 0.0545 - val_accuracy: 0.9765\n",
            "Epoch 166/200\n",
            "34/34 [==============================] - 75s 2s/step - loss: 0.1592 - accuracy: 0.9394 - val_loss: 0.0767 - val_accuracy: 0.9765\n",
            "Epoch 167/200\n",
            "34/34 [==============================] - 77s 2s/step - loss: 0.1728 - accuracy: 0.9328 - val_loss: 0.0394 - val_accuracy: 0.9899\n",
            "Epoch 168/200\n",
            "34/34 [==============================] - 76s 2s/step - loss: 0.1632 - accuracy: 0.9468 - val_loss: 0.0814 - val_accuracy: 0.9664\n",
            "Epoch 169/200\n",
            "34/34 [==============================] - 76s 2s/step - loss: 0.1581 - accuracy: 0.9403 - val_loss: 0.0569 - val_accuracy: 0.9799\n",
            "Epoch 170/200\n",
            "34/34 [==============================] - 77s 2s/step - loss: 0.1519 - accuracy: 0.9375 - val_loss: 0.0400 - val_accuracy: 0.9933\n",
            "Epoch 171/200\n",
            "34/34 [==============================] - 77s 2s/step - loss: 0.1595 - accuracy: 0.9394 - val_loss: 0.0529 - val_accuracy: 0.9799\n",
            "Epoch 172/200\n",
            "34/34 [==============================] - 78s 2s/step - loss: 0.1733 - accuracy: 0.9282 - val_loss: 0.0557 - val_accuracy: 0.9866\n",
            "Epoch 173/200\n",
            "34/34 [==============================] - 76s 2s/step - loss: 0.1875 - accuracy: 0.9226 - val_loss: 0.0566 - val_accuracy: 0.9866\n",
            "Epoch 174/200\n",
            "34/34 [==============================] - 77s 2s/step - loss: 0.1761 - accuracy: 0.9310 - val_loss: 0.0714 - val_accuracy: 0.9765\n",
            "Epoch 175/200\n",
            "34/34 [==============================] - 75s 2s/step - loss: 0.1391 - accuracy: 0.9450 - val_loss: 0.0758 - val_accuracy: 0.9664\n",
            "Epoch 176/200\n",
            "34/34 [==============================] - 75s 2s/step - loss: 0.1632 - accuracy: 0.9412 - val_loss: 0.0541 - val_accuracy: 0.9866\n",
            "Epoch 177/200\n",
            "34/34 [==============================] - 78s 2s/step - loss: 0.1597 - accuracy: 0.9468 - val_loss: 0.0661 - val_accuracy: 0.9732\n",
            "Epoch 178/200\n",
            "34/34 [==============================] - 76s 2s/step - loss: 0.1399 - accuracy: 0.9440 - val_loss: 0.0441 - val_accuracy: 0.9899\n",
            "Epoch 179/200\n",
            "34/34 [==============================] - 76s 2s/step - loss: 0.1722 - accuracy: 0.9356 - val_loss: 0.0383 - val_accuracy: 0.9866\n",
            "Epoch 180/200\n",
            "34/34 [==============================] - 76s 2s/step - loss: 0.1913 - accuracy: 0.9300 - val_loss: 0.0548 - val_accuracy: 0.9799\n",
            "Epoch 181/200\n",
            "34/34 [==============================] - 78s 2s/step - loss: 0.1604 - accuracy: 0.9440 - val_loss: 0.0462 - val_accuracy: 0.9899\n",
            "Epoch 182/200\n",
            "34/34 [==============================] - 75s 2s/step - loss: 0.1531 - accuracy: 0.9422 - val_loss: 0.0408 - val_accuracy: 0.9933\n",
            "Epoch 183/200\n",
            "34/34 [==============================] - 75s 2s/step - loss: 0.1427 - accuracy: 0.9431 - val_loss: 0.0383 - val_accuracy: 0.9966\n",
            "Epoch 184/200\n",
            "34/34 [==============================] - 78s 2s/step - loss: 0.1520 - accuracy: 0.9468 - val_loss: 0.0497 - val_accuracy: 0.9866\n",
            "Epoch 185/200\n",
            "34/34 [==============================] - 77s 2s/step - loss: 0.1572 - accuracy: 0.9375 - val_loss: 0.0322 - val_accuracy: 0.9933\n",
            "Epoch 186/200\n",
            "34/34 [==============================] - 77s 2s/step - loss: 0.1303 - accuracy: 0.9562 - val_loss: 0.0486 - val_accuracy: 0.9799\n",
            "Epoch 187/200\n",
            "34/34 [==============================] - 75s 2s/step - loss: 0.1597 - accuracy: 0.9412 - val_loss: 0.0635 - val_accuracy: 0.9765\n",
            "Epoch 188/200\n",
            "34/34 [==============================] - 76s 2s/step - loss: 0.1440 - accuracy: 0.9459 - val_loss: 0.0394 - val_accuracy: 0.9899\n",
            "Epoch 189/200\n",
            "34/34 [==============================] - 77s 2s/step - loss: 0.1579 - accuracy: 0.9412 - val_loss: 0.0351 - val_accuracy: 0.9899\n",
            "Epoch 190/200\n",
            "34/34 [==============================] - 77s 2s/step - loss: 0.1339 - accuracy: 0.9524 - val_loss: 0.0346 - val_accuracy: 0.9866\n",
            "Epoch 191/200\n",
            "34/34 [==============================] - 77s 2s/step - loss: 0.1381 - accuracy: 0.9543 - val_loss: 0.0247 - val_accuracy: 0.9933\n",
            "Epoch 192/200\n",
            "34/34 [==============================] - 76s 2s/step - loss: 0.1313 - accuracy: 0.9487 - val_loss: 0.0345 - val_accuracy: 0.9899\n",
            "Epoch 193/200\n",
            "34/34 [==============================] - 78s 2s/step - loss: 0.1196 - accuracy: 0.9543 - val_loss: 0.0346 - val_accuracy: 0.9899\n",
            "Epoch 194/200\n",
            "34/34 [==============================] - 76s 2s/step - loss: 0.1397 - accuracy: 0.9515 - val_loss: 0.0190 - val_accuracy: 0.9966\n",
            "Epoch 195/200\n",
            "34/34 [==============================] - 79s 2s/step - loss: 0.1280 - accuracy: 0.9506 - val_loss: 0.0541 - val_accuracy: 0.9832\n",
            "Epoch 196/200\n",
            "34/34 [==============================] - 76s 2s/step - loss: 0.1070 - accuracy: 0.9534 - val_loss: 0.0420 - val_accuracy: 0.9832\n",
            "Epoch 197/200\n",
            "34/34 [==============================] - 76s 2s/step - loss: 0.1338 - accuracy: 0.9459 - val_loss: 0.0591 - val_accuracy: 0.9765\n",
            "Epoch 198/200\n",
            "34/34 [==============================] - 77s 2s/step - loss: 0.1145 - accuracy: 0.9571 - val_loss: 0.0416 - val_accuracy: 0.9799\n",
            "Epoch 199/200\n",
            "34/34 [==============================] - 79s 2s/step - loss: 0.1100 - accuracy: 0.9608 - val_loss: 0.0249 - val_accuracy: 0.9933\n",
            "Epoch 200/200\n",
            "34/34 [==============================] - 79s 2s/step - loss: 0.1153 - accuracy: 0.9534 - val_loss: 0.0508 - val_accuracy: 0.9832\n"
          ]
        }
      ],
      "source": [
        "model.compile(optimizer='adam',\n",
        "              loss=tf.keras.losses.SparseCategoricalCrossentropy(from_logits=True),\n",
        "              metrics=['accuracy'])\n",
        "epochs= 200\n",
        "history = model.fit(\n",
        "  train_ds,\n",
        "  validation_data=val_ds,\n",
        "  epochs=epochs\n",
        ")"
      ]
    },
    {
      "cell_type": "code",
      "execution_count": 11,
      "metadata": {
        "id": "B18Qn1hKxGab",
        "colab": {
          "base_uri": "https://localhost:8080/",
          "height": 716
        },
        "outputId": "b440612a-afb7-4d98-e929-d43a15dc4543"
      },
      "outputs": [
        {
          "data": {
            "image/png": "[encoded data removed]",
            "text/plain": [
              "<Figure size 864x864 with 2 Axes>"
            ]
          },
          "metadata": {},
          "output_type": "display_data"
        }
      ],
      "source": [
        "acc = history.history['accuracy']\n",
        "val_acc = history.history['val_accuracy']\n",
        "\n",
        "loss = history.history['loss']\n",
        "val_loss = history.history['val_loss']\n",
        "\n",
        "epochs_range = range(epochs)\n",
        "\n",
        "plt.figure(figsize=(12, 12))\n",
        "plt.subplot(1, 2, 1)\n",
        "plt.plot(epochs_range, acc, label='Training Accuracy')\n",
        "plt.plot(epochs_range, val_acc, label='Validation Accuracy')\n",
        "plt.legend(loc='lower right')\n",
        "plt.title('Training and Validation Accuracy')\n",
        "\n",
        "plt.subplot(1, 2, 2)\n",
        "plt.plot(epochs_range, loss, label='Training Loss')\n",
        "plt.plot(epochs_range, val_loss, label='Validation Loss')\n",
        "plt.legend(loc='lower left')\n",
        "plt.title('Training and Validation Loss')\n",
        "plt.show()"
      ]
    },
    {
      "cell_type": "code",
      "execution_count": 12,
      "metadata": {
        "id": "7QTIKE387p1V"
      },
      "outputs": [],
      "source": [
        "# Save the entire model to a HDF5 file.\n",
        "# The '.h5' extension indicates that the model should be saved to HDF5.\n",
        "\n",
        "model.save('PimpleMe.h5')"
      ]
    },
    {
      "cell_type": "code",
      "execution_count": 13,
      "metadata": {
        "id": "nzRQIvVs7wrl"
      },
      "outputs": [],
      "source": [
        "from keras.models import load_model\n",
        "\n",
        "# returns a compiled model\n",
        "# identical to the previous one\n",
        "new_model= tf.keras.models.load_model(filepath=\"PimpleMe.h5\")\n"
      ]
    },
    {
      "cell_type": "code",
      "execution_count": 16,
      "metadata": {
        "id": "gQs8LdNriePj",
        "colab": {
          "resources": {
            "http://localhost:8080/nbextensions/google.colab/files.js": {
              "data": "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",
              "ok": true,
              "headers": [
                [
                  "content-type",
                  "application/javascript"
                ]
              ],
              "status": 200,
              "status_text": ""
            }
          },
          "base_uri": "https://localhost:8080/",
          "height": 91
        },
        "outputId": "bc654645-4ace-4e09-f3dc-531801b413ae"
      },
      "outputs": [
        {
          "output_type": "display_data",
          "data": {
            "text/plain": [
              "<IPython.core.display.HTML object>"
            ],
            "text/html": [
              "\n",
              "     <input type=\"file\" id=\"files-a9da23ef-3c34-4337-8e65-f09398fbeb20\" name=\"files[]\" multiple disabled\n",
              "        style=\"border:none\" />\n",
              "     <output id=\"result-a9da23ef-3c34-4337-8e65-f09398fbeb20\">\n",
              "      Upload widget is only available when the cell has been executed in the\n",
              "      current browser session. Please rerun this cell to enable.\n",
              "      </output>\n",
              "      <script src=\"/nbextensions/google.colab/files.js\"></script> "
            ]
          },
          "metadata": {}
        },
        {
          "output_type": "stream",
          "name": "stdout",
          "text": [
            "Saving botox-men-2-768x720.jpg to botox-men-2-768x720.jpg\n",
            "The condition of the face in the picture shows Normal condition with a 100.00 percent confidence.\n"
          ]
        }
      ],
      "source": [
        "import numpy as np\n",
        "from google.colab import files\n",
        "from keras.preprocessing import image\n",
        "\n",
        "uploaded = files.upload()\n",
        "\n",
        "for fn in uploaded.keys():\n",
        " \n",
        "  # predicting images\n",
        "  path = fn\n",
        "  img = keras.preprocessing.image.load_img(\n",
        "      path, target_size=(img_height, img_width)\n",
        "  )\n",
        "  img_array = keras.preprocessing.image.img_to_array(img)\n",
        "  img_array = tf.expand_dims(img_array, 0) # Create a batch\n",
        "\n",
        "  predictions = model.predict(img_array)\n",
        "  score = tf.nn.softmax(predictions[0])\n",
        "\n",
        "  print(\n",
        "      \"The condition of the face in the picture shows {} condition with a {:.2f} percent confidence.\"\n",
        "      .format(class_names[np.argmax(score)], 100 * np.max(score))\n",
        "  )\n",
        " "
      ]
    },
    {
      "cell_type": "code",
      "execution_count": null,
      "metadata": {
        "id": "9xfkFIjOmCwA"
      },
      "outputs": [],
      "source": [
        "# Convert the model.\n",
        "converter = tf.lite.TFLiteConverter.from_keras_model(new_model)\n",
        "tflite_model = converter.convert()\n",
        "\n",
        "# Save the TF Lite model.\n",
        "with tf.io.gfile.GFile('PimpleMe.tflite', 'wb') as f:\n",
        "  f.write(tflite_model)"
      ]
    },
    {
      "cell_type": "markdown",
      "metadata": {
        "id": "2AUVmf5jwbpZ"
      },
      "source": [
        ""
      ]
    },
    {
      "cell_type": "markdown",
      "metadata": {
        "id": "5ilQEdkstYx1"
      },
      "source": [
        ""
      ]
    }
  ],
  "metadata": {
    "colab": {
      "collapsed_sections": [],
      "name": "Pimpscan.ipynb",
      "provenance": [],
      "include_colab_link": true
    },
    "kernelspec": {
      "display_name": "Python 3",
      "name": "python3"
    },
    "language_info": {
      "name": "python"
    }
  },
  "nbformat": 4,
  "nbformat_minor": 0
}